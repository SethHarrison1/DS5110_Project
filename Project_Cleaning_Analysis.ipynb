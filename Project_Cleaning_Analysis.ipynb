{
 "cells": [
  {
   "cell_type": "code",
   "execution_count": 1,
   "metadata": {},
   "outputs": [],
   "source": [
    "import pandas as pd\n",
    "import numpy as np\n",
    "from pyspark.sql import SparkSession\n",
    "import os"
   ]
  },
  {
   "cell_type": "code",
   "execution_count": 2,
   "metadata": {},
   "outputs": [],
   "source": [
    "spark = SparkSession \\\n",
    "    .builder \\\n",
    "    .appName(\"Cleaning\") \\\n",
    "    .getOrCreate()"
   ]
  },
  {
   "cell_type": "code",
   "execution_count": 3,
   "metadata": {},
   "outputs": [],
   "source": [
    "# Reading the excel sheets for the H-1B data, the quarterly sheets need to be merged and have duplicates cleaned/removed\n",
    "# df = spark.read.format(\"com.elastacloud.spark.excel\").load(\"LCA_Disclosure_Data_FY2021_Q2.xlsx\")"
   ]
  },
  {
   "cell_type": "code",
   "execution_count": 4,
   "metadata": {},
   "outputs": [],
   "source": [
    "H1B_2021_Q1 = pd.read_excel('https://www.dol.gov/sites/dolgov/files/ETA/oflc/pdfs/LCA_Disclosure_Data_FY2021_Q1.xlsx')"
   ]
  },
  {
   "cell_type": "code",
   "execution_count": 5,
   "metadata": {},
   "outputs": [],
   "source": [
    "H1B_2021_Q2 = pd.read_excel('https://www.dol.gov/sites/dolgov/files/ETA/oflc/pdfs/LCA_Disclosure_Data_FY2021_Q2.xlsx')"
   ]
  },
  {
   "cell_type": "code",
   "execution_count": 6,
   "metadata": {},
   "outputs": [],
   "source": [
    "H1B_2021_Q3 = pd.read_excel('https://www.dol.gov/sites/dolgov/files/ETA/oflc/pdfs/LCA_Disclosure_Data_FY2021_Q3.xlsx')"
   ]
  },
  {
   "cell_type": "code",
   "execution_count": 7,
   "metadata": {},
   "outputs": [],
   "source": [
    "H1B_2021_Q4 = pd.read_excel('https://www.dol.gov/sites/dolgov/files/ETA/oflc/pdfs/LCA_Disclosure_Data_FY2021_Q4.xlsx')"
   ]
  },
  {
   "cell_type": "code",
   "execution_count": 8,
   "metadata": {},
   "outputs": [],
   "source": [
    "H1B_2020_Q1 = pd.read_excel('https://www.dol.gov/sites/dolgov/files/ETA/oflc/pdfs/LCA_Disclosure_Data_FY2020_Q1.xlsx')"
   ]
  },
  {
   "cell_type": "code",
   "execution_count": 9,
   "metadata": {},
   "outputs": [],
   "source": [
    "H1B_2020_Q2 = pd.read_excel('https://www.dol.gov/sites/dolgov/files/ETA/oflc/pdfs/LCA_Disclosure_Data_FY2020_Q2.xlsx')"
   ]
  },
  {
   "cell_type": "code",
   "execution_count": 10,
   "metadata": {},
   "outputs": [],
   "source": [
    "H1B_2020_Q3 = pd.read_excel('https://www.dol.gov/sites/dolgov/files/ETA/oflc/pdfs/LCA_Disclosure_Data_FY2020_Q3.xlsx')"
   ]
  },
  {
   "cell_type": "code",
   "execution_count": 11,
   "metadata": {},
   "outputs": [],
   "source": [
    "H1B_2020_Q4 = pd.read_excel('https://www.dol.gov/sites/dolgov/files/ETA/oflc/pdfs/LCA_Disclosure_Data_FY2020_Q4.xlsx')"
   ]
  },
  {
   "cell_type": "code",
   "execution_count": 12,
   "metadata": {},
   "outputs": [],
   "source": [
    "H1B_2019 = pd.read_excel('https://www.dol.gov/sites/dolgov/files/ETA/oflc/pdfs/H-1B_Disclosure_Data_FY2018_EOY.xlsx')"
   ]
  },
  {
   "cell_type": "code",
   "execution_count": 13,
   "metadata": {},
   "outputs": [],
   "source": [
    "H1B_2018 = pd.read_excel('https://www.dol.gov/sites/dolgov/files/ETA/oflc/pdfs/H-1B_Disclosure_Data_FY2018_EOY.xlsx')"
   ]
  },
  {
   "cell_type": "code",
   "execution_count": 14,
   "metadata": {},
   "outputs": [],
   "source": [
    "H1B_2017 = pd.read_excel('https://www.dol.gov/sites/dolgov/files/ETA/oflc/pdfs/H-1B_Disclosure_Data_FY17.xlsx')"
   ]
  },
  {
   "cell_type": "code",
   "execution_count": 15,
   "metadata": {},
   "outputs": [],
   "source": [
    "H1B_2016 = pd.read_excel('https://www.dol.gov/sites/dolgov/files/ETA/oflc/pdfs/H-1B_Disclosure_Data_FY16.xlsx')"
   ]
  },
  {
   "cell_type": "code",
   "execution_count": 16,
   "metadata": {},
   "outputs": [],
   "source": [
    "# Reading the excel sheets for the Green Card data, can remove duplicates if they are present but no quarterly reports here\n",
    "PERM_2021 = pd.read_excel('https://www.dol.gov/sites/dolgov/files/ETA/oflc/pdfs/PERM_Disclosure_Data_FY2021.xlsx')"
   ]
  },
  {
   "cell_type": "code",
   "execution_count": 17,
   "metadata": {},
   "outputs": [],
   "source": [
    "PERM_2020 = pd.read_excel('https://www.dol.gov/sites/dolgov/files/ETA/oflc/pdfs/PERM_Disclosure_Data_FY2020.xlsx')"
   ]
  },
  {
   "cell_type": "code",
   "execution_count": 18,
   "metadata": {},
   "outputs": [],
   "source": [
    "PERM_2019 = pd.read_excel('https://www.dol.gov/sites/dolgov/files/ETA/oflc/pdfs/PERM_FY2019.xlsx')"
   ]
  },
  {
   "cell_type": "code",
   "execution_count": 19,
   "metadata": {},
   "outputs": [],
   "source": [
    "PERM_2018 = pd.read_excel('https://www.dol.gov/sites/dolgov/files/ETA/oflc/pdfs/PERM_Disclosure_Data_FY2018_EOY.xlsx')"
   ]
  },
  {
   "cell_type": "code",
   "execution_count": 20,
   "metadata": {},
   "outputs": [],
   "source": [
    "PERM_2017 = pd.read_excel('https://www.dol.gov/sites/dolgov/files/ETA/oflc/pdfs/PERM_Disclosure_Data_FY17.xlsx')"
   ]
  },
  {
   "cell_type": "code",
   "execution_count": 21,
   "metadata": {},
   "outputs": [],
   "source": [
    "PERM_2016 = pd.read_excel('https://www.dol.gov/sites/dolgov/files/ETA/oflc/pdfs/PERM_Disclosure_Data_FY16.xlsx')"
   ]
  },
  {
   "cell_type": "code",
   "execution_count": 22,
   "metadata": {},
   "outputs": [
    {
     "data": {
      "text/plain": [
       "96"
      ]
     },
     "execution_count": 22,
     "metadata": {},
     "output_type": "execute_result"
    }
   ],
   "source": [
    "len(list(H1B_2021_Q1.columns))"
   ]
  },
  {
   "cell_type": "code",
   "execution_count": 23,
   "metadata": {},
   "outputs": [
    {
     "data": {
      "text/html": [
       "<div>\n",
       "<style scoped>\n",
       "    .dataframe tbody tr th:only-of-type {\n",
       "        vertical-align: middle;\n",
       "    }\n",
       "\n",
       "    .dataframe tbody tr th {\n",
       "        vertical-align: top;\n",
       "    }\n",
       "\n",
       "    .dataframe thead th {\n",
       "        text-align: right;\n",
       "    }\n",
       "</style>\n",
       "<table border=\"1\" class=\"dataframe\">\n",
       "  <thead>\n",
       "    <tr style=\"text-align: right;\">\n",
       "      <th></th>\n",
       "      <th>CASE_NUMBER</th>\n",
       "      <th>CASE_STATUS</th>\n",
       "      <th>RECEIVED_DATE</th>\n",
       "      <th>DECISION_DATE</th>\n",
       "      <th>ORIGINAL_CERT_DATE</th>\n",
       "      <th>VISA_CLASS</th>\n",
       "      <th>JOB_TITLE</th>\n",
       "      <th>SOC_CODE</th>\n",
       "      <th>SOC_TITLE</th>\n",
       "      <th>FULL_TIME_POSITION</th>\n",
       "      <th>...</th>\n",
       "      <th>WILLFUL_VIOLATOR</th>\n",
       "      <th>SUPPORT_H1B</th>\n",
       "      <th>STATUTORY_BASIS</th>\n",
       "      <th>APPENDIX_A_ATTACHED</th>\n",
       "      <th>PUBLIC_DISCLOSURE</th>\n",
       "      <th>PREPARER_LAST_NAME</th>\n",
       "      <th>PREPARER_FIRST_NAME</th>\n",
       "      <th>PREPARER_MIDDLE_INITIAL</th>\n",
       "      <th>PREPARER_BUSINESS_NAME</th>\n",
       "      <th>PREPARER_EMAIL</th>\n",
       "    </tr>\n",
       "  </thead>\n",
       "  <tbody>\n",
       "    <tr>\n",
       "      <th>0</th>\n",
       "      <td>I-200-20268-843329</td>\n",
       "      <td>Certified</td>\n",
       "      <td>2020-09-24</td>\n",
       "      <td>2020-10-01</td>\n",
       "      <td>NaT</td>\n",
       "      <td>H-1B</td>\n",
       "      <td>Senior Technical Architect</td>\n",
       "      <td>15-1132</td>\n",
       "      <td>Software Developers, Applications</td>\n",
       "      <td>Y</td>\n",
       "      <td>...</td>\n",
       "      <td>N</td>\n",
       "      <td>Y</td>\n",
       "      <td>Wage</td>\n",
       "      <td>NaN</td>\n",
       "      <td>Disclose Business</td>\n",
       "      <td>Chothani</td>\n",
       "      <td>Poorvi</td>\n",
       "      <td>R</td>\n",
       "      <td>The Law office of Poorvi Chothani, PLLC</td>\n",
       "      <td>gov@poorvichothani.com</td>\n",
       "    </tr>\n",
       "    <tr>\n",
       "      <th>1</th>\n",
       "      <td>I-200-20268-843033</td>\n",
       "      <td>Certified</td>\n",
       "      <td>2020-09-24</td>\n",
       "      <td>2020-10-01</td>\n",
       "      <td>NaT</td>\n",
       "      <td>H-1B</td>\n",
       "      <td>Programmer Analyst\\t</td>\n",
       "      <td>15-1131</td>\n",
       "      <td>Computer Programmers</td>\n",
       "      <td>Y</td>\n",
       "      <td>...</td>\n",
       "      <td>N</td>\n",
       "      <td>Y</td>\n",
       "      <td>Wage</td>\n",
       "      <td>NaN</td>\n",
       "      <td>Disclose Business</td>\n",
       "      <td>NaN</td>\n",
       "      <td>NaN</td>\n",
       "      <td>NaN</td>\n",
       "      <td>NaN</td>\n",
       "      <td>NaN</td>\n",
       "    </tr>\n",
       "    <tr>\n",
       "      <th>2</th>\n",
       "      <td>I-200-20268-843527</td>\n",
       "      <td>Certified</td>\n",
       "      <td>2020-09-24</td>\n",
       "      <td>2020-10-01</td>\n",
       "      <td>NaT</td>\n",
       "      <td>H-1B</td>\n",
       "      <td>Software Developer</td>\n",
       "      <td>15-1132</td>\n",
       "      <td>Software Developers, Applications</td>\n",
       "      <td>Y</td>\n",
       "      <td>...</td>\n",
       "      <td>N</td>\n",
       "      <td>Y</td>\n",
       "      <td>Wage</td>\n",
       "      <td>NaN</td>\n",
       "      <td>Disclose Business</td>\n",
       "      <td>NaN</td>\n",
       "      <td>NaN</td>\n",
       "      <td>NaN</td>\n",
       "      <td>NaN</td>\n",
       "      <td>NaN</td>\n",
       "    </tr>\n",
       "    <tr>\n",
       "      <th>3</th>\n",
       "      <td>I-200-20268-844241</td>\n",
       "      <td>Certified</td>\n",
       "      <td>2020-09-24</td>\n",
       "      <td>2020-10-01</td>\n",
       "      <td>NaT</td>\n",
       "      <td>H-1B</td>\n",
       "      <td>JAVA ANALYST 2</td>\n",
       "      <td>15-1121</td>\n",
       "      <td>Computer Systems Analysts</td>\n",
       "      <td>Y</td>\n",
       "      <td>...</td>\n",
       "      <td>N</td>\n",
       "      <td>Y</td>\n",
       "      <td>Wage</td>\n",
       "      <td>NaN</td>\n",
       "      <td>Disclose Business</td>\n",
       "      <td>NaN</td>\n",
       "      <td>NaN</td>\n",
       "      <td>NaN</td>\n",
       "      <td>NaN</td>\n",
       "      <td>NaN</td>\n",
       "    </tr>\n",
       "    <tr>\n",
       "      <th>4</th>\n",
       "      <td>I-200-20268-844003</td>\n",
       "      <td>Certified</td>\n",
       "      <td>2020-09-24</td>\n",
       "      <td>2020-10-01</td>\n",
       "      <td>NaT</td>\n",
       "      <td>H-1B</td>\n",
       "      <td>SQL DATABASE ADMINISTRATOR II</td>\n",
       "      <td>15-1141</td>\n",
       "      <td>Database Administrators</td>\n",
       "      <td>Y</td>\n",
       "      <td>...</td>\n",
       "      <td>N</td>\n",
       "      <td>Y</td>\n",
       "      <td>Wage</td>\n",
       "      <td>NaN</td>\n",
       "      <td>Disclose Business</td>\n",
       "      <td>NaN</td>\n",
       "      <td>NaN</td>\n",
       "      <td>NaN</td>\n",
       "      <td>NaN</td>\n",
       "      <td>NaN</td>\n",
       "    </tr>\n",
       "  </tbody>\n",
       "</table>\n",
       "<p>5 rows × 96 columns</p>\n",
       "</div>"
      ],
      "text/plain": [
       "          CASE_NUMBER CASE_STATUS RECEIVED_DATE DECISION_DATE  \\\n",
       "0  I-200-20268-843329   Certified    2020-09-24    2020-10-01   \n",
       "1  I-200-20268-843033   Certified    2020-09-24    2020-10-01   \n",
       "2  I-200-20268-843527   Certified    2020-09-24    2020-10-01   \n",
       "3  I-200-20268-844241   Certified    2020-09-24    2020-10-01   \n",
       "4  I-200-20268-844003   Certified    2020-09-24    2020-10-01   \n",
       "\n",
       "  ORIGINAL_CERT_DATE VISA_CLASS                      JOB_TITLE SOC_CODE  \\\n",
       "0                NaT       H-1B     Senior Technical Architect  15-1132   \n",
       "1                NaT       H-1B           Programmer Analyst\\t  15-1131   \n",
       "2                NaT       H-1B             Software Developer  15-1132   \n",
       "3                NaT       H-1B                 JAVA ANALYST 2  15-1121   \n",
       "4                NaT       H-1B  SQL DATABASE ADMINISTRATOR II  15-1141   \n",
       "\n",
       "                           SOC_TITLE FULL_TIME_POSITION  ... WILLFUL_VIOLATOR  \\\n",
       "0  Software Developers, Applications                  Y  ...                N   \n",
       "1               Computer Programmers                  Y  ...                N   \n",
       "2  Software Developers, Applications                  Y  ...                N   \n",
       "3          Computer Systems Analysts                  Y  ...                N   \n",
       "4            Database Administrators                  Y  ...                N   \n",
       "\n",
       "  SUPPORT_H1B  STATUTORY_BASIS  APPENDIX_A_ATTACHED  PUBLIC_DISCLOSURE  \\\n",
       "0           Y             Wage                  NaN  Disclose Business   \n",
       "1           Y             Wage                  NaN  Disclose Business   \n",
       "2           Y             Wage                  NaN  Disclose Business   \n",
       "3           Y             Wage                  NaN  Disclose Business   \n",
       "4           Y             Wage                  NaN  Disclose Business   \n",
       "\n",
       "   PREPARER_LAST_NAME  PREPARER_FIRST_NAME  PREPARER_MIDDLE_INITIAL  \\\n",
       "0            Chothani               Poorvi                        R   \n",
       "1                 NaN                  NaN                      NaN   \n",
       "2                 NaN                  NaN                      NaN   \n",
       "3                 NaN                  NaN                      NaN   \n",
       "4                 NaN                  NaN                      NaN   \n",
       "\n",
       "                    PREPARER_BUSINESS_NAME          PREPARER_EMAIL  \n",
       "0  The Law office of Poorvi Chothani, PLLC  gov@poorvichothani.com  \n",
       "1                                      NaN                     NaN  \n",
       "2                                      NaN                     NaN  \n",
       "3                                      NaN                     NaN  \n",
       "4                                      NaN                     NaN  \n",
       "\n",
       "[5 rows x 96 columns]"
      ]
     },
     "execution_count": 23,
     "metadata": {},
     "output_type": "execute_result"
    }
   ],
   "source": [
    "H1B_2021_Q1.head()"
   ]
  },
  {
   "cell_type": "code",
   "execution_count": 24,
   "metadata": {},
   "outputs": [],
   "source": [
    "# Getting important columns \n",
    "h1b_quarterly_cols = ['CASE_NUMBER', 'CASE_STATUS', 'RECEIVED_DATE', 'DECISION_DATE',\n",
    "                      'VISA_CLASS', 'JOB_TITLE', 'SOC_CODE','SOC_TITLE', 'FULL_TIME_POSITION', \n",
    "                     'EMPLOYER_NAME','EMPLOYER_CITY', 'EMPLOYER_STATE', 'WAGE_RATE_OF_PAY_FROM',\n",
    "                      'WAGE_UNIT_OF_PAY', 'PREVAILING_WAGE', 'PW_UNIT_OF_PAY']"
   ]
  },
  {
   "cell_type": "code",
   "execution_count": 25,
   "metadata": {},
   "outputs": [],
   "source": [
    "# create trimmed quarterly reports\n",
    "H1B_2021_Q1_trim = H1B_2021_Q1[h1b_quarterly_cols]\n",
    "H1B_2021_Q2_trim = H1B_2021_Q2[h1b_quarterly_cols]\n",
    "H1B_2021_Q3_trim = H1B_2021_Q3[h1b_quarterly_cols]\n",
    "H1B_2021_Q4_trim = H1B_2021_Q4[h1b_quarterly_cols]\n",
    "H1B_2020_Q1_trim = H1B_2020_Q1[h1b_quarterly_cols]\n",
    "H1B_2020_Q2_trim = H1B_2020_Q2[h1b_quarterly_cols]\n",
    "H1B_2020_Q3_trim = H1B_2020_Q3[h1b_quarterly_cols]\n",
    "H1B_2020_Q4_trim = H1B_2020_Q4[h1b_quarterly_cols]"
   ]
  },
  {
   "cell_type": "code",
   "execution_count": 26,
   "metadata": {},
   "outputs": [],
   "source": [
    "# rename case submitted col to received date\n",
    "H1B_2016 = H1B_2016.rename(columns={'CASE_SUBMITTED': 'RECEIVED_DATE'})\n",
    "H1B_2017 = H1B_2017.rename(columns={'CASE_SUBMITTED': 'RECEIVED_DATE'})\n",
    "H1B_2018 = H1B_2018.rename(columns={'CASE_SUBMITTED': 'RECEIVED_DATE'})\n",
    "H1B_2019 = H1B_2019.rename(columns={'CASE_SUBMITTED': 'RECEIVED_DATE'})"
   ]
  },
  {
   "cell_type": "code",
   "execution_count": 27,
   "metadata": {},
   "outputs": [],
   "source": [
    "# rename soc name col to soc title\n",
    "H1B_2016 = H1B_2016.rename(columns={'SOC_NAME': 'SOC_TITLE'})\n",
    "H1B_2017 = H1B_2017.rename(columns={'SOC_NAME': 'SOC_TITLE'})\n",
    "H1B_2018 = H1B_2018.rename(columns={'SOC_NAME': 'SOC_TITLE'})\n",
    "H1B_2019 = H1B_2019.rename(columns={'SOC_NAME': 'SOC_TITLE'})"
   ]
  },
  {
   "cell_type": "code",
   "execution_count": 28,
   "metadata": {},
   "outputs": [],
   "source": [
    "H1B_2016_trim = H1B_2016[h1b_quarterly_cols]\n",
    "H1B_2017_trim = H1B_2017[h1b_quarterly_cols]\n",
    "H1B_2018_trim = H1B_2018[h1b_quarterly_cols]\n",
    "H1B_2019_trim = H1B_2019[h1b_quarterly_cols]"
   ]
  },
  {
   "cell_type": "code",
   "execution_count": 29,
   "metadata": {},
   "outputs": [],
   "source": [
    "# append the reports that are not quarterly\n",
    "H1B_combined = H1B_2016_trim.append([H1B_2017_trim, H1B_2018_trim, H1B_2019_trim])"
   ]
  },
  {
   "cell_type": "code",
   "execution_count": 30,
   "metadata": {},
   "outputs": [
    {
     "data": {
      "text/plain": [
       "True"
      ]
     },
     "execution_count": 30,
     "metadata": {},
     "output_type": "execute_result"
    }
   ],
   "source": [
    "# check all rows moved\n",
    "len(H1B_combined) == len(H1B_2018_trim) + len(H1B_2017_trim) + len(H1B_2016_trim) + len(H1B_2019_trim)"
   ]
  },
  {
   "cell_type": "code",
   "execution_count": 31,
   "metadata": {},
   "outputs": [
    {
     "data": {
      "text/html": [
       "<div>\n",
       "<style scoped>\n",
       "    .dataframe tbody tr th:only-of-type {\n",
       "        vertical-align: middle;\n",
       "    }\n",
       "\n",
       "    .dataframe tbody tr th {\n",
       "        vertical-align: top;\n",
       "    }\n",
       "\n",
       "    .dataframe thead th {\n",
       "        text-align: right;\n",
       "    }\n",
       "</style>\n",
       "<table border=\"1\" class=\"dataframe\">\n",
       "  <thead>\n",
       "    <tr style=\"text-align: right;\">\n",
       "      <th></th>\n",
       "      <th>CASE_NUMBER</th>\n",
       "      <th>CASE_STATUS</th>\n",
       "      <th>RECEIVED_DATE</th>\n",
       "      <th>DECISION_DATE</th>\n",
       "      <th>VISA_CLASS</th>\n",
       "      <th>JOB_TITLE</th>\n",
       "      <th>SOC_CODE</th>\n",
       "      <th>SOC_TITLE</th>\n",
       "      <th>FULL_TIME_POSITION</th>\n",
       "      <th>EMPLOYER_NAME</th>\n",
       "      <th>EMPLOYER_CITY</th>\n",
       "      <th>EMPLOYER_STATE</th>\n",
       "      <th>WAGE_RATE_OF_PAY_FROM</th>\n",
       "      <th>WAGE_UNIT_OF_PAY</th>\n",
       "      <th>PREVAILING_WAGE</th>\n",
       "      <th>PW_UNIT_OF_PAY</th>\n",
       "    </tr>\n",
       "  </thead>\n",
       "  <tbody>\n",
       "    <tr>\n",
       "      <th>0</th>\n",
       "      <td>I-200-12240-490687</td>\n",
       "      <td>CERTIFIED-WITHDRAWN</td>\n",
       "      <td>2012-08-27</td>\n",
       "      <td>2015-10-16</td>\n",
       "      <td>H-1B</td>\n",
       "      <td>POSTDOCTORAL RESEARCH FELLOW</td>\n",
       "      <td>10-1021.00</td>\n",
       "      <td>BIOCHEMISTS AND BIOPHYSICISTS</td>\n",
       "      <td>NaN</td>\n",
       "      <td>UNIVERSITY OF MICHIGAN</td>\n",
       "      <td>ANN ARBOR</td>\n",
       "      <td>MI</td>\n",
       "      <td>41000.00</td>\n",
       "      <td>Year</td>\n",
       "      <td>36067.00</td>\n",
       "      <td>Year</td>\n",
       "    </tr>\n",
       "    <tr>\n",
       "      <th>1</th>\n",
       "      <td>I-200-13053-847481</td>\n",
       "      <td>CERTIFIED-WITHDRAWN</td>\n",
       "      <td>2013-02-25</td>\n",
       "      <td>2016-01-13</td>\n",
       "      <td>H-1B</td>\n",
       "      <td>CHIEF OPERATING OFFICER</td>\n",
       "      <td>11-1011</td>\n",
       "      <td>CHIEF EXECUTIVES</td>\n",
       "      <td>NaN</td>\n",
       "      <td>GOODMAN NETWORKS, INC.</td>\n",
       "      <td>PLANO</td>\n",
       "      <td>TX</td>\n",
       "      <td>400000.00</td>\n",
       "      <td>Year</td>\n",
       "      <td>242674.00</td>\n",
       "      <td>Year</td>\n",
       "    </tr>\n",
       "    <tr>\n",
       "      <th>2</th>\n",
       "      <td>I-200-13088-054259</td>\n",
       "      <td>CERTIFIED-WITHDRAWN</td>\n",
       "      <td>2013-04-23</td>\n",
       "      <td>2015-12-10</td>\n",
       "      <td>H-1B</td>\n",
       "      <td>CHIEF PROCESS OFFICER</td>\n",
       "      <td>11-1011</td>\n",
       "      <td>CHIEF EXECUTIVES</td>\n",
       "      <td>NaN</td>\n",
       "      <td>PORTS AMERICA GROUP, INC.</td>\n",
       "      <td>JERSEY CITY</td>\n",
       "      <td>NJ</td>\n",
       "      <td>264000.00</td>\n",
       "      <td>Year</td>\n",
       "      <td>193066.00</td>\n",
       "      <td>Year</td>\n",
       "    </tr>\n",
       "    <tr>\n",
       "      <th>3</th>\n",
       "      <td>I-200-13144-034110</td>\n",
       "      <td>CERTIFIED-WITHDRAWN</td>\n",
       "      <td>2013-05-24</td>\n",
       "      <td>2016-01-19</td>\n",
       "      <td>H-1B</td>\n",
       "      <td>REGIONAL PRESIDEN, AMERICAS</td>\n",
       "      <td>11-1011</td>\n",
       "      <td>CHIEF EXECUTIVES</td>\n",
       "      <td>NaN</td>\n",
       "      <td>GATES CORPORATION, A WHOLLY-OWNED SUBSIDIARY O...</td>\n",
       "      <td>DENVER</td>\n",
       "      <td>CO</td>\n",
       "      <td>220314.00</td>\n",
       "      <td>Year</td>\n",
       "      <td>220314.00</td>\n",
       "      <td>Year</td>\n",
       "    </tr>\n",
       "    <tr>\n",
       "      <th>4</th>\n",
       "      <td>I-200-13172-415116</td>\n",
       "      <td>WITHDRAWN</td>\n",
       "      <td>2013-06-26</td>\n",
       "      <td>2016-05-20</td>\n",
       "      <td>H-1B</td>\n",
       "      <td>PRESIDENT MONGOLIA AND INDIA</td>\n",
       "      <td>11-1011</td>\n",
       "      <td>CHIEF EXECUTIVES</td>\n",
       "      <td>NaN</td>\n",
       "      <td>PEABODY INVESTMENTS CORP.</td>\n",
       "      <td>ST. LOUIS</td>\n",
       "      <td>MO</td>\n",
       "      <td>171.63</td>\n",
       "      <td>Hour</td>\n",
       "      <td>75.73</td>\n",
       "      <td>Hour</td>\n",
       "    </tr>\n",
       "  </tbody>\n",
       "</table>\n",
       "</div>"
      ],
      "text/plain": [
       "          CASE_NUMBER          CASE_STATUS RECEIVED_DATE DECISION_DATE  \\\n",
       "0  I-200-12240-490687  CERTIFIED-WITHDRAWN    2012-08-27    2015-10-16   \n",
       "1  I-200-13053-847481  CERTIFIED-WITHDRAWN    2013-02-25    2016-01-13   \n",
       "2  I-200-13088-054259  CERTIFIED-WITHDRAWN    2013-04-23    2015-12-10   \n",
       "3  I-200-13144-034110  CERTIFIED-WITHDRAWN    2013-05-24    2016-01-19   \n",
       "4  I-200-13172-415116            WITHDRAWN    2013-06-26    2016-05-20   \n",
       "\n",
       "  VISA_CLASS                     JOB_TITLE    SOC_CODE  \\\n",
       "0       H-1B  POSTDOCTORAL RESEARCH FELLOW  10-1021.00   \n",
       "1       H-1B       CHIEF OPERATING OFFICER     11-1011   \n",
       "2       H-1B         CHIEF PROCESS OFFICER     11-1011   \n",
       "3       H-1B   REGIONAL PRESIDEN, AMERICAS     11-1011   \n",
       "4       H-1B  PRESIDENT MONGOLIA AND INDIA     11-1011   \n",
       "\n",
       "                       SOC_TITLE FULL_TIME_POSITION  \\\n",
       "0  BIOCHEMISTS AND BIOPHYSICISTS                NaN   \n",
       "1               CHIEF EXECUTIVES                NaN   \n",
       "2               CHIEF EXECUTIVES                NaN   \n",
       "3               CHIEF EXECUTIVES                NaN   \n",
       "4               CHIEF EXECUTIVES                NaN   \n",
       "\n",
       "                                       EMPLOYER_NAME EMPLOYER_CITY  \\\n",
       "0                             UNIVERSITY OF MICHIGAN     ANN ARBOR   \n",
       "1                             GOODMAN NETWORKS, INC.         PLANO   \n",
       "2                          PORTS AMERICA GROUP, INC.   JERSEY CITY   \n",
       "3  GATES CORPORATION, A WHOLLY-OWNED SUBSIDIARY O...        DENVER   \n",
       "4                          PEABODY INVESTMENTS CORP.     ST. LOUIS   \n",
       "\n",
       "  EMPLOYER_STATE  WAGE_RATE_OF_PAY_FROM WAGE_UNIT_OF_PAY  PREVAILING_WAGE  \\\n",
       "0             MI               41000.00             Year         36067.00   \n",
       "1             TX              400000.00             Year        242674.00   \n",
       "2             NJ              264000.00             Year        193066.00   \n",
       "3             CO              220314.00             Year        220314.00   \n",
       "4             MO                 171.63             Hour            75.73   \n",
       "\n",
       "  PW_UNIT_OF_PAY  \n",
       "0           Year  \n",
       "1           Year  \n",
       "2           Year  \n",
       "3           Year  \n",
       "4           Hour  "
      ]
     },
     "execution_count": 31,
     "metadata": {},
     "output_type": "execute_result"
    }
   ],
   "source": [
    "H1B_combined.head()"
   ]
  },
  {
   "cell_type": "code",
   "execution_count": 32,
   "metadata": {},
   "outputs": [],
   "source": [
    "# append the quarterly reports for cleaning\n",
    "H1B_quarterly = H1B_2021_Q1_trim.append([H1B_2021_Q2_trim, H1B_2021_Q3_trim, H1B_2021_Q4_trim,\n",
    "                                         H1B_2020_Q1_trim, H1B_2020_Q2_trim, H1B_2020_Q3_trim, H1B_2020_Q4_trim])"
   ]
  },
  {
   "cell_type": "code",
   "execution_count": 33,
   "metadata": {},
   "outputs": [],
   "source": [
    "H1B_quarterly.loc[H1B_quarterly[\"CASE_STATUS\"] == \"CERTIFIED-WITHDRAWN\", \"CASE_STATUS\"] = \"Certified\""
   ]
  },
  {
   "cell_type": "code",
   "execution_count": 34,
   "metadata": {},
   "outputs": [
    {
     "data": {
      "text/html": [
       "<div>\n",
       "<style scoped>\n",
       "    .dataframe tbody tr th:only-of-type {\n",
       "        vertical-align: middle;\n",
       "    }\n",
       "\n",
       "    .dataframe tbody tr th {\n",
       "        vertical-align: top;\n",
       "    }\n",
       "\n",
       "    .dataframe thead th {\n",
       "        text-align: right;\n",
       "    }\n",
       "</style>\n",
       "<table border=\"1\" class=\"dataframe\">\n",
       "  <thead>\n",
       "    <tr style=\"text-align: right;\">\n",
       "      <th></th>\n",
       "      <th>CASE_NUMBER</th>\n",
       "      <th>CASE_STATUS</th>\n",
       "      <th>RECEIVED_DATE</th>\n",
       "      <th>DECISION_DATE</th>\n",
       "      <th>VISA_CLASS</th>\n",
       "      <th>JOB_TITLE</th>\n",
       "      <th>SOC_CODE</th>\n",
       "      <th>SOC_TITLE</th>\n",
       "      <th>FULL_TIME_POSITION</th>\n",
       "      <th>EMPLOYER_NAME</th>\n",
       "      <th>EMPLOYER_CITY</th>\n",
       "      <th>EMPLOYER_STATE</th>\n",
       "      <th>WAGE_RATE_OF_PAY_FROM</th>\n",
       "      <th>WAGE_UNIT_OF_PAY</th>\n",
       "      <th>PREVAILING_WAGE</th>\n",
       "      <th>PW_UNIT_OF_PAY</th>\n",
       "    </tr>\n",
       "  </thead>\n",
       "  <tbody>\n",
       "    <tr>\n",
       "      <th>0</th>\n",
       "      <td>I-200-20268-843329</td>\n",
       "      <td>Certified</td>\n",
       "      <td>2020-09-24</td>\n",
       "      <td>2020-10-01</td>\n",
       "      <td>H-1B</td>\n",
       "      <td>Senior Technical Architect</td>\n",
       "      <td>15-1132</td>\n",
       "      <td>Software Developers, Applications</td>\n",
       "      <td>Y</td>\n",
       "      <td>Hexaware Technologies Inc.</td>\n",
       "      <td>Iselin</td>\n",
       "      <td>NJ</td>\n",
       "      <td>103770.0</td>\n",
       "      <td>Year</td>\n",
       "      <td>97406.0</td>\n",
       "      <td>Year</td>\n",
       "    </tr>\n",
       "    <tr>\n",
       "      <th>1</th>\n",
       "      <td>I-200-20268-843033</td>\n",
       "      <td>Certified</td>\n",
       "      <td>2020-09-24</td>\n",
       "      <td>2020-10-01</td>\n",
       "      <td>H-1B</td>\n",
       "      <td>Programmer Analyst\\t</td>\n",
       "      <td>15-1131</td>\n",
       "      <td>Computer Programmers</td>\n",
       "      <td>Y</td>\n",
       "      <td>WIPRO LIMITED</td>\n",
       "      <td>EAST BRUNSWICK</td>\n",
       "      <td>NJ</td>\n",
       "      <td>84510.0</td>\n",
       "      <td>Year</td>\n",
       "      <td>84510.0</td>\n",
       "      <td>Year</td>\n",
       "    </tr>\n",
       "    <tr>\n",
       "      <th>2</th>\n",
       "      <td>I-200-20268-843527</td>\n",
       "      <td>Certified</td>\n",
       "      <td>2020-09-24</td>\n",
       "      <td>2020-10-01</td>\n",
       "      <td>H-1B</td>\n",
       "      <td>Software Developer</td>\n",
       "      <td>15-1132</td>\n",
       "      <td>Software Developers, Applications</td>\n",
       "      <td>Y</td>\n",
       "      <td>Mastech Digital InfoTech, Inc.</td>\n",
       "      <td>Moon Township</td>\n",
       "      <td>PA</td>\n",
       "      <td>70678.0</td>\n",
       "      <td>Year</td>\n",
       "      <td>70678.0</td>\n",
       "      <td>Year</td>\n",
       "    </tr>\n",
       "    <tr>\n",
       "      <th>3</th>\n",
       "      <td>I-200-20268-844241</td>\n",
       "      <td>Certified</td>\n",
       "      <td>2020-09-24</td>\n",
       "      <td>2020-10-01</td>\n",
       "      <td>H-1B</td>\n",
       "      <td>JAVA ANALYST 2</td>\n",
       "      <td>15-1121</td>\n",
       "      <td>Computer Systems Analysts</td>\n",
       "      <td>Y</td>\n",
       "      <td>VIRTUSA CORPORATION</td>\n",
       "      <td>Southborough</td>\n",
       "      <td>MA</td>\n",
       "      <td>103376.0</td>\n",
       "      <td>Year</td>\n",
       "      <td>81453.0</td>\n",
       "      <td>Year</td>\n",
       "    </tr>\n",
       "    <tr>\n",
       "      <th>4</th>\n",
       "      <td>I-200-20268-844003</td>\n",
       "      <td>Certified</td>\n",
       "      <td>2020-09-24</td>\n",
       "      <td>2020-10-01</td>\n",
       "      <td>H-1B</td>\n",
       "      <td>SQL DATABASE ADMINISTRATOR II</td>\n",
       "      <td>15-1141</td>\n",
       "      <td>Database Administrators</td>\n",
       "      <td>Y</td>\n",
       "      <td>XTGLOBAL, INC.</td>\n",
       "      <td>PLANO</td>\n",
       "      <td>TX</td>\n",
       "      <td>91146.0</td>\n",
       "      <td>Year</td>\n",
       "      <td>91146.0</td>\n",
       "      <td>Year</td>\n",
       "    </tr>\n",
       "  </tbody>\n",
       "</table>\n",
       "</div>"
      ],
      "text/plain": [
       "          CASE_NUMBER CASE_STATUS RECEIVED_DATE DECISION_DATE VISA_CLASS  \\\n",
       "0  I-200-20268-843329   Certified    2020-09-24    2020-10-01       H-1B   \n",
       "1  I-200-20268-843033   Certified    2020-09-24    2020-10-01       H-1B   \n",
       "2  I-200-20268-843527   Certified    2020-09-24    2020-10-01       H-1B   \n",
       "3  I-200-20268-844241   Certified    2020-09-24    2020-10-01       H-1B   \n",
       "4  I-200-20268-844003   Certified    2020-09-24    2020-10-01       H-1B   \n",
       "\n",
       "                       JOB_TITLE SOC_CODE                          SOC_TITLE  \\\n",
       "0     Senior Technical Architect  15-1132  Software Developers, Applications   \n",
       "1           Programmer Analyst\\t  15-1131               Computer Programmers   \n",
       "2             Software Developer  15-1132  Software Developers, Applications   \n",
       "3                 JAVA ANALYST 2  15-1121          Computer Systems Analysts   \n",
       "4  SQL DATABASE ADMINISTRATOR II  15-1141            Database Administrators   \n",
       "\n",
       "  FULL_TIME_POSITION                   EMPLOYER_NAME   EMPLOYER_CITY  \\\n",
       "0                  Y      Hexaware Technologies Inc.          Iselin   \n",
       "1                  Y                   WIPRO LIMITED  EAST BRUNSWICK   \n",
       "2                  Y  Mastech Digital InfoTech, Inc.   Moon Township   \n",
       "3                  Y             VIRTUSA CORPORATION    Southborough   \n",
       "4                  Y                  XTGLOBAL, INC.           PLANO   \n",
       "\n",
       "  EMPLOYER_STATE  WAGE_RATE_OF_PAY_FROM WAGE_UNIT_OF_PAY  PREVAILING_WAGE  \\\n",
       "0             NJ               103770.0             Year          97406.0   \n",
       "1             NJ                84510.0             Year          84510.0   \n",
       "2             PA                70678.0             Year          70678.0   \n",
       "3             MA               103376.0             Year          81453.0   \n",
       "4             TX                91146.0             Year          91146.0   \n",
       "\n",
       "  PW_UNIT_OF_PAY  \n",
       "0           Year  \n",
       "1           Year  \n",
       "2           Year  \n",
       "3           Year  \n",
       "4           Year  "
      ]
     },
     "execution_count": 34,
     "metadata": {},
     "output_type": "execute_result"
    }
   ],
   "source": [
    "H1B_quarterly.head()"
   ]
  },
  {
   "cell_type": "code",
   "execution_count": 35,
   "metadata": {},
   "outputs": [
    {
     "data": {
      "text/plain": [
       "1403639"
      ]
     },
     "execution_count": 35,
     "metadata": {},
     "output_type": "execute_result"
    }
   ],
   "source": [
    "len(H1B_quarterly)"
   ]
  },
  {
   "cell_type": "code",
   "execution_count": 36,
   "metadata": {},
   "outputs": [
    {
     "data": {
      "text/plain": [
       "1097206"
      ]
     },
     "execution_count": 36,
     "metadata": {},
     "output_type": "execute_result"
    }
   ],
   "source": [
    "# remove duplicate cases for quarterly\n",
    "H1B_quarterly_trim = H1B_quarterly.drop_duplicates(subset='CASE_NUMBER', keep=\"first\")\n",
    "len(H1B_quarterly_trim)"
   ]
  },
  {
   "cell_type": "code",
   "execution_count": 37,
   "metadata": {},
   "outputs": [
    {
     "data": {
      "text/plain": [
       "1887063"
      ]
     },
     "execution_count": 37,
     "metadata": {},
     "output_type": "execute_result"
    }
   ],
   "source": [
    "# remove duplicate cases for non-quarterly\n",
    "H1B_combined_trim = H1B_combined.drop_duplicates(subset='CASE_NUMBER', keep=\"first\")\n",
    "len(H1B_combined_trim)"
   ]
  },
  {
   "cell_type": "code",
   "execution_count": 38,
   "metadata": {},
   "outputs": [],
   "source": [
    "# rename certified-withdrawn to just certified for h1b combined non-quarterly\n",
    "H1B_combined.loc[H1B_combined[\"CASE_STATUS\"] == \"Certified-Withdrawn\", \"CASE_STATUS\"] = \"Certified\""
   ]
  },
  {
   "cell_type": "code",
   "execution_count": 39,
   "metadata": {},
   "outputs": [],
   "source": [
    "# Create final H1B dataframe\n",
    "H1B_combined_final = H1B_combined_trim.append(H1B_quarterly_trim)"
   ]
  },
  {
   "cell_type": "code",
   "execution_count": 40,
   "metadata": {},
   "outputs": [],
   "source": [
    "# exporting to csv\n",
    "H1B_combined_final.to_csv('H1B_combined_final.csv', index = False)"
   ]
  },
  {
   "cell_type": "code",
   "execution_count": 41,
   "metadata": {},
   "outputs": [],
   "source": [
    "# selecting the columns for Green Card data\n",
    "GC_columns = ['CASE_NUMBER', 'CASE_STATUS', 'CASE_RECEIVED_DATE', 'DECISION_DATE', 'REFILE', 'EMPLOYER_NAME', 'EMPLOYER_STATE', \n",
    "             'EMPLOYER_CITY', 'EMPLOYER_NUM_EMPLOYEES', 'FW_OWNERSHIP_INTEREST', 'PW_SOC_TITLE', 'PW_AMOUNT_9089', 'PW_UNIT_OF_PAY_9089',\n",
    "             'PW_LEVEL_9089', 'WAGE_OFFER_FROM_9089', 'WAGE_OFFER_UNIT_OF_PAY_9089', 'JOB_INFO_JOB_TITLE', 'JOB_INFO_EDUCATION',\n",
    "              'JOB_INFO_EDUCATION_OTHER', 'JOB_INFO_MAJOR', 'JOB_INFO_EXPERIENCE_NUM_MONTHS', 'COUNTRY_OF_CITIZENSHIP', 'FW_INFO_BIRTH_COUNTRY',\n",
    "              'CLASS_OF_ADMISSION', 'FOREIGN_WORKER_INFO_EDUCATION', 'FW_INFO_EDUCATION_OTHER', 'FOREIGN_WORKER_INFO_MAJOR', 'PW_JOB_TITLE_9089']"
   ]
  },
  {
   "cell_type": "code",
   "execution_count": 42,
   "metadata": {},
   "outputs": [],
   "source": [
    "#combine Green Card dataframes\n",
    "GC_combined = PERM_2016.append([PERM_2017, PERM_2018, PERM_2019, PERM_2020, PERM_2021])"
   ]
  },
  {
   "cell_type": "code",
   "execution_count": 43,
   "metadata": {},
   "outputs": [],
   "source": [
    "#get columns\n",
    "GC_combined_trim = GC_combined[GC_columns]"
   ]
  },
  {
   "cell_type": "code",
   "execution_count": 44,
   "metadata": {},
   "outputs": [
    {
     "name": "stderr",
     "output_type": "stream",
     "text": [
      "/opt/conda/lib/python3.7/site-packages/pandas/core/indexing.py:1765: SettingWithCopyWarning: \n",
      "A value is trying to be set on a copy of a slice from a DataFrame.\n",
      "Try using .loc[row_indexer,col_indexer] = value instead\n",
      "\n",
      "See the caveats in the documentation: https://pandas.pydata.org/pandas-docs/stable/user_guide/indexing.html#returning-a-view-versus-a-copy\n",
      "  isetter(loc, value)\n"
     ]
    }
   ],
   "source": [
    "# change certified expired to just certified\n",
    "GC_combined_trim.loc[GC_combined_trim[\"CASE_STATUS\"] == \"Certified-Expired\", \"CASE_STATUS\"] = \"Certified\""
   ]
  },
  {
   "cell_type": "code",
   "execution_count": 45,
   "metadata": {},
   "outputs": [
    {
     "data": {
      "text/plain": [
       "648460"
      ]
     },
     "execution_count": 45,
     "metadata": {},
     "output_type": "execute_result"
    }
   ],
   "source": [
    "len(GC_combined_trim)"
   ]
  },
  {
   "cell_type": "code",
   "execution_count": 46,
   "metadata": {},
   "outputs": [
    {
     "data": {
      "text/plain": [
       "646954"
      ]
     },
     "execution_count": 46,
     "metadata": {},
     "output_type": "execute_result"
    }
   ],
   "source": [
    "#remove duplicates\n",
    "GC_combined_final = GC_combined_trim.drop_duplicates(subset='CASE_NUMBER', keep=\"first\")\n",
    "len(GC_combined_final)"
   ]
  },
  {
   "cell_type": "code",
   "execution_count": 47,
   "metadata": {},
   "outputs": [],
   "source": [
    "# exporting to csv\n",
    "GC_combined_final.to_csv('GC_combined_final.csv', index = False)"
   ]
  },
  {
   "cell_type": "code",
   "execution_count": null,
   "metadata": {},
   "outputs": [],
   "source": []
  },
  {
   "cell_type": "markdown",
   "metadata": {},
   "source": [
    "================================================================================================\n",
    "# Variable Analysis\n",
    "================================================================================================"
   ]
  },
  {
   "cell_type": "code",
   "execution_count": 1,
   "metadata": {},
   "outputs": [],
   "source": [
    "from pyspark.mllib.stat import Statistics\n",
    "from pyspark.mllib.linalg import Vectors\n",
    "from pyspark.mllib.classification import LogisticRegressionWithLBFGS, LogisticRegressionModel\n",
    "from pyspark.mllib.regression import LabeledPoint\n",
    "from pyspark.ml.feature import VectorAssembler \n",
    "from pyspark.mllib.evaluation import MulticlassMetrics\n",
    "from pyspark.mllib.feature import StandardScaler\n",
    "\n",
    "import os\n",
    "\n",
    "from pyspark.sql import SparkSession\n",
    "spark = SparkSession.builder \\\n",
    "        .master(\"local\") \\\n",
    "        .appName(\"Final Project\") \\\n",
    "        .getOrCreate()\n",
    "sc = spark.sparkContext"
   ]
  },
  {
   "cell_type": "code",
   "execution_count": 2,
   "metadata": {},
   "outputs": [],
   "source": [
    "# param init fpr H1B\n",
    "infileH1B = 'H1B_combined_final.csv'\n",
    "\n",
    "infileGC = 'GC_combined_final.csv'"
   ]
  },
  {
   "cell_type": "markdown",
   "metadata": {},
   "source": [
    " #### We have two data sets. First one is H1B visa category and various fields related to the visa application. Second file is based on Green card application data. We will analyse these two files seperatly. "
   ]
  },
  {
   "cell_type": "markdown",
   "metadata": {},
   "source": [
    "## H1B Data Analysis"
   ]
  },
  {
   "cell_type": "code",
   "execution_count": 3,
   "metadata": {},
   "outputs": [],
   "source": [
    "# read data into dataframe\n",
    "dfH1B = spark.read.csv(infileH1B, inferSchema=True, header = True)"
   ]
  },
  {
   "cell_type": "code",
   "execution_count": 4,
   "metadata": {},
   "outputs": [
    {
     "name": "stdout",
     "output_type": "stream",
     "text": [
      "+------------------+-------------------+-------------+-------------+----------+--------------------+----------+--------------------+------------------+--------------------+-------------+--------------+---------------------+----------------+---------------+--------------+\n",
      "|       CASE_NUMBER|        CASE_STATUS|RECEIVED_DATE|DECISION_DATE|VISA_CLASS|           JOB_TITLE|  SOC_CODE|           SOC_TITLE|FULL_TIME_POSITION|       EMPLOYER_NAME|EMPLOYER_CITY|EMPLOYER_STATE|WAGE_RATE_OF_PAY_FROM|WAGE_UNIT_OF_PAY|PREVAILING_WAGE|PW_UNIT_OF_PAY|\n",
      "+------------------+-------------------+-------------+-------------+----------+--------------------+----------+--------------------+------------------+--------------------+-------------+--------------+---------------------+----------------+---------------+--------------+\n",
      "|I-200-12240-490687|CERTIFIED-WITHDRAWN|   2012-08-27|   2015-10-16|      H-1B|POSTDOCTORAL RESE...|10-1021.00|BIOCHEMISTS AND B...|              null|UNIVERSITY OF MIC...|    ANN ARBOR|            MI|              41000.0|            Year|        36067.0|          Year|\n",
      "|I-200-13053-847481|CERTIFIED-WITHDRAWN|   2013-02-25|   2016-01-13|      H-1B|CHIEF OPERATING O...|   11-1011|    CHIEF EXECUTIVES|              null|GOODMAN NETWORKS,...|        PLANO|            TX|             400000.0|            Year|       242674.0|          Year|\n",
      "+------------------+-------------------+-------------+-------------+----------+--------------------+----------+--------------------+------------------+--------------------+-------------+--------------+---------------------+----------------+---------------+--------------+\n",
      "only showing top 2 rows\n",
      "\n"
     ]
    }
   ],
   "source": [
    "dfH1B.show(2)"
   ]
  },
  {
   "cell_type": "code",
   "execution_count": 6,
   "metadata": {},
   "outputs": [
    {
     "name": "stdout",
     "output_type": "stream",
     "text": [
      "root\n",
      " |-- CASE_NUMBER: string (nullable = true)\n",
      " |-- CASE_STATUS: string (nullable = true)\n",
      " |-- RECEIVED_DATE: string (nullable = true)\n",
      " |-- DECISION_DATE: string (nullable = true)\n",
      " |-- VISA_CLASS: string (nullable = true)\n",
      " |-- JOB_TITLE: string (nullable = true)\n",
      " |-- SOC_CODE: string (nullable = true)\n",
      " |-- SOC_TITLE: string (nullable = true)\n",
      " |-- FULL_TIME_POSITION: string (nullable = true)\n",
      " |-- EMPLOYER_NAME: string (nullable = true)\n",
      " |-- EMPLOYER_CITY: string (nullable = true)\n",
      " |-- EMPLOYER_STATE: string (nullable = true)\n",
      " |-- WAGE_RATE_OF_PAY_FROM: string (nullable = true)\n",
      " |-- WAGE_UNIT_OF_PAY: string (nullable = true)\n",
      " |-- PREVAILING_WAGE: string (nullable = true)\n",
      " |-- PW_UNIT_OF_PAY: string (nullable = true)\n",
      "\n"
     ]
    }
   ],
   "source": [
    "dfH1B.printSchema()"
   ]
  },
  {
   "cell_type": "code",
   "execution_count": 26,
   "metadata": {},
   "outputs": [
    {
     "data": {
      "text/plain": [
       "2984269"
      ]
     },
     "execution_count": 26,
     "metadata": {},
     "output_type": "execute_result"
    }
   ],
   "source": [
    "dfH1B.count()"
   ]
  },
  {
   "cell_type": "markdown",
   "metadata": {},
   "source": [
    "H1B dataset has 16 columns listed as above. The column 'CASE_NUMBER' is the unique identification number for each visa application. The dataset has 2,984,269 number of records. "
   ]
  },
  {
   "cell_type": "code",
   "execution_count": 7,
   "metadata": {},
   "outputs": [
    {
     "name": "stdout",
     "output_type": "stream",
     "text": [
      "+--------------------+-------+\n",
      "|         CASE_STATUS|  count|\n",
      "+--------------------+-------+\n",
      "|              Denied|   6675|\n",
      "|           CERTIFIED|1694789|\n",
      "| CERTIFIED-WITHDRAWN| 105135|\n",
      "|Certified - Withd...|  33083|\n",
      "|           Withdrawn|  20937|\n",
      "|           Certified|1036511|\n",
      "|           WITHDRAWN|  60812|\n",
      "|              DENIED|  26327|\n",
      "+--------------------+-------+\n",
      "\n"
     ]
    }
   ],
   "source": [
    "dfH1B.groupBy(\"CASE_STATUS\").count().show()"
   ]
  },
  {
   "cell_type": "markdown",
   "metadata": {},
   "source": [
    "The 'CASE_STATUS' indicates the outcome of the H1B application. We will use this variable as the target variable for the logistic and other machine learning models.\n",
    "\n",
    "Following are frequancy tables for each categorical variables in the dataset."
   ]
  },
  {
   "cell_type": "code",
   "execution_count": 8,
   "metadata": {},
   "outputs": [
    {
     "name": "stdout",
     "output_type": "stream",
     "text": [
      "+--------------------+-------+\n",
      "|          VISA_CLASS|  count|\n",
      "+--------------------+-------+\n",
      "|         H-1B1 Chile|   5233|\n",
      "|     H-1B1 Singapore|   5828|\n",
      "|      E-3 Australian|  57493|\n",
      "|                H-1B|2915714|\n",
      "|Select Visa Class...|      1|\n",
      "+--------------------+-------+\n",
      "\n"
     ]
    }
   ],
   "source": [
    "dfH1B.groupBy(\"VISA_CLASS\").count().show()"
   ]
  },
  {
   "cell_type": "code",
   "execution_count": 9,
   "metadata": {},
   "outputs": [
    {
     "name": "stdout",
     "output_type": "stream",
     "text": [
      "+--------------------+-----+\n",
      "|           JOB_TITLE|count|\n",
      "+--------------------+-----+\n",
      "|PRACTICE LEAD-FAC...|    1|\n",
      "|DIRECTOR OF STRAT...|   10|\n",
      "|HOSPITALITY OPERA...|    3|\n",
      "|   PRACTICE DIRECTOR|   40|\n",
      "|VP, PRODUCT DEVEL...|    2|\n",
      "|SR. MANAGER, BUSI...|    1|\n",
      "|TECHNICAL PRODUCT...|   16|\n",
      "|DIRECTOR, ONLINE ...|    1|\n",
      "|STRATEGIC BUSINES...|    1|\n",
      "|ASSOCIATE MANAGER...|    1|\n",
      "|SENIOR MANAGER, D...|    1|\n",
      "|PRODUCT MANAGER, ...|    1|\n",
      "|DIRECTOR, MEDICAL...|    2|\n",
      "|BUSINESS DEVELOPM...|    6|\n",
      "|VICE PRESIDENT OF...|    1|\n",
      "|    IT SALES MANAGER|    7|\n",
      "|SALES DIRECTOR - ...|    2|\n",
      "|VICE PRESIDENT, S...|    1|\n",
      "|DIRECTOR, SOLUTIO...|    8|\n",
      "|  SENIOR MANAGER, IT|   20|\n",
      "+--------------------+-----+\n",
      "only showing top 20 rows\n",
      "\n"
     ]
    }
   ],
   "source": [
    "dfH1B.groupBy(\"JOB_TITLE\").count().show()"
   ]
  },
  {
   "cell_type": "code",
   "execution_count": 10,
   "metadata": {},
   "outputs": [
    {
     "name": "stdout",
     "output_type": "stream",
     "text": [
      "+----------+-----+\n",
      "|  SOC_CODE|count|\n",
      "+----------+-----+\n",
      "|   13-2081|   14|\n",
      "|   19.1021|    1|\n",
      "|   43-5111|    2|\n",
      "|   49-2095|    1|\n",
      "|     16974|   29|\n",
      "|     45300|    4|\n",
      "|15-1054.00|   20|\n",
      "|33-3021.01|    2|\n",
      "|53-6041.00|    1|\n",
      "|29-9012.00|    3|\n",
      "|17-2041.00| 1953|\n",
      "|29-9091.00|   87|\n",
      "|   47-1011|   26|\n",
      "|     38900|    2|\n",
      "|17-3022.00|   33|\n",
      "|47-4099.00|    7|\n",
      "|29-1069.05|    5|\n",
      "|13-2011.00|11764|\n",
      "|     24580|    4|\n",
      "|29-2041.00|   26|\n",
      "+----------+-----+\n",
      "only showing top 20 rows\n",
      "\n"
     ]
    }
   ],
   "source": [
    "dfH1B.groupBy(\"SOC_CODE\").count().show()"
   ]
  },
  {
   "cell_type": "code",
   "execution_count": 11,
   "metadata": {},
   "outputs": [
    {
     "name": "stdout",
     "output_type": "stream",
     "text": [
      "+--------------------+-----+\n",
      "|           SOC_TITLE|count|\n",
      "+--------------------+-----+\n",
      "|COMPUTER & INFORM...|    5|\n",
      "|FOOD SERVICE MANA...|  424|\n",
      "|PROPERTY, REAL ES...|    2|\n",
      "|AGENTS AND BUSINE...|  146|\n",
      "|     COST ESTIMATORS| 2427|\n",
      "|SOFTWARE QUALITY ...|    4|\n",
      "|CHEMICAL TECHNICIANS|  179|\n",
      "|CAREER/TECHNICAL ...|    1|\n",
      "|INSTRUCTIONAL COO...| 1485|\n",
      "|MUSIC DIRECTORS A...|  175|\n",
      "|SYSTEMS ADMINISTR...|    3|\n",
      "|WOODWORKING MACHI...|    1|\n",
      "|FOREIGN LANGUATE ...|    1|\n",
      "|ARCHITECTURAL AND...|    1|\n",
      "|Computer Hardware...|    5|\n",
      "|Software Develope...|    7|\n",
      "|Food Service Mana...|   60|\n",
      "|      Dermatologists|   20|\n",
      "|Biofuels Producti...|    1|\n",
      "|DATABASE ADMINIST...|26312|\n",
      "+--------------------+-----+\n",
      "only showing top 20 rows\n",
      "\n"
     ]
    }
   ],
   "source": [
    "dfH1B.groupBy(\"SOC_TITLE\").count().show()"
   ]
  },
  {
   "cell_type": "code",
   "execution_count": 12,
   "metadata": {},
   "outputs": [
    {
     "name": "stdout",
     "output_type": "stream",
     "text": [
      "+--------------------+-------+\n",
      "|  FULL_TIME_POSITION|  count|\n",
      "+--------------------+-------+\n",
      "|                null| 647902|\n",
      "|                LLC\"|      1|\n",
      "|Environmental Eng...|      1|\n",
      "|                   Y|2290799|\n",
      "|          27-1014.00|      1|\n",
      "|Regulatory Affair...|      1|\n",
      "|                   N|  45563|\n",
      "|               INC.\"|      1|\n",
      "+--------------------+-------+\n",
      "\n"
     ]
    }
   ],
   "source": [
    "dfH1B.groupBy(\"FULL_TIME_POSITION\").count().show()"
   ]
  },
  {
   "cell_type": "code",
   "execution_count": 13,
   "metadata": {},
   "outputs": [
    {
     "name": "stdout",
     "output_type": "stream",
     "text": [
      "+----------------+-----+\n",
      "|   EMPLOYER_CITY|count|\n",
      "+----------------+-----+\n",
      "|OAKBROOK TERRACE|  202|\n",
      "|       PRINCETON|17722|\n",
      "|          NOVATO|  400|\n",
      "|       WATERTOWN|  450|\n",
      "|       SOUTHLAKE| 1406|\n",
      "|   N. AMITYVILLE|    1|\n",
      "|         RARITAN|   36|\n",
      "|        LOCKHART|    3|\n",
      "|      CUMBERLAND|   88|\n",
      "|         MARLTON|   90|\n",
      "|            ANNA|    2|\n",
      "|       ELLINGTON|   18|\n",
      "|         EDMONDS|   28|\n",
      "|      SCHAUMBUEG|   17|\n",
      "|       NESCONSET|    2|\n",
      "|      CLEAR LAKE|    3|\n",
      "|          BAXLEY|    3|\n",
      "|        ST. ROSE|    7|\n",
      "|        MAYVILLE|    2|\n",
      "|     MCMINNVILLE|   12|\n",
      "+----------------+-----+\n",
      "only showing top 20 rows\n",
      "\n"
     ]
    }
   ],
   "source": [
    "dfH1B.groupBy(\"EMPLOYER_CITY\").count().show()"
   ]
  },
  {
   "cell_type": "code",
   "execution_count": 14,
   "metadata": {},
   "outputs": [
    {
     "name": "stdout",
     "output_type": "stream",
     "text": [
      "+--------------+------+\n",
      "|EMPLOYER_STATE| count|\n",
      "+--------------+------+\n",
      "|            SC|  9041|\n",
      "|            AZ| 21446|\n",
      "|            LA|  6236|\n",
      "|            MN| 24822|\n",
      "|            NJ|362534|\n",
      "|            DC|  9780|\n",
      "|            OR|  8537|\n",
      "| Central lslip|     1|\n",
      "|            VA| 89760|\n",
      "|          null|   178|\n",
      "|            RI|  6083|\n",
      "|            KY| 10475|\n",
      "|            WY|   723|\n",
      "|            NH|  4660|\n",
      "|            MI|116306|\n",
      "|            NV|  5356|\n",
      "|            WI| 17321|\n",
      "|            ID|  3543|\n",
      "|            CA|537861|\n",
      "|            CT| 27857|\n",
      "+--------------+------+\n",
      "only showing top 20 rows\n",
      "\n"
     ]
    }
   ],
   "source": [
    "dfH1B.groupBy(\"EMPLOYER_STATE\").count().show()"
   ]
  },
  {
   "cell_type": "code",
   "execution_count": 16,
   "metadata": {},
   "outputs": [
    {
     "name": "stdout",
     "output_type": "stream",
     "text": [
      "+----------------+-------+\n",
      "|WAGE_UNIT_OF_PAY|  count|\n",
      "+----------------+-------+\n",
      "|            Year|2792985|\n",
      "|       Bi-Weekly|    656|\n",
      "|           Month|   2521|\n",
      "|            Hour| 187078|\n",
      "|            null|     74|\n",
      "|        150000.0|      1|\n",
      "|         70000.0|      1|\n",
      "|         88275.0|      1|\n",
      "|            Week|    950|\n",
      "|        155106.0|      1|\n",
      "|              MA|      1|\n",
      "+----------------+-------+\n",
      "\n"
     ]
    }
   ],
   "source": [
    "dfH1B.groupBy(\"WAGE_UNIT_OF_PAY\").count().show()"
   ]
  },
  {
   "cell_type": "code",
   "execution_count": 18,
   "metadata": {},
   "outputs": [
    {
     "name": "stdout",
     "output_type": "stream",
     "text": [
      "+--------------+-------+\n",
      "|PW_UNIT_OF_PAY|  count|\n",
      "+--------------+-------+\n",
      "|          Year|2791861|\n",
      "|     Bi-Weekly|    362|\n",
      "|         Month|   1628|\n",
      "|          Hour| 187659|\n",
      "|          null|   2157|\n",
      "|          Week|    600|\n",
      "|       61360.0|      1|\n",
      "|       82867.0|      1|\n",
      "+--------------+-------+\n",
      "\n"
     ]
    }
   ],
   "source": [
    "dfH1B.groupBy(\"PW_UNIT_OF_PAY\").count().show()"
   ]
  },
  {
   "cell_type": "markdown",
   "metadata": {},
   "source": [
    "The dataset has two quantitative variables, namely 'WAGE_RATE_OF_PAY_FROM' and 'PREVAILING_WAGE'. Following are discriptive statistics of those variables."
   ]
  },
  {
   "cell_type": "code",
   "execution_count": 27,
   "metadata": {},
   "outputs": [
    {
     "name": "stdout",
     "output_type": "stream",
     "text": [
      "+-------+---------------------+-----------------+\n",
      "|summary|WAGE_RATE_OF_PAY_FROM|  PREVAILING_WAGE|\n",
      "+-------+---------------------+-----------------+\n",
      "|  count|              2984226|          2982261|\n",
      "|   mean|    91920.11798390409| 80853.9592955767|\n",
      "| stddev|    907931.9804660545|591793.8676214326|\n",
      "|    min|                  0.0|              0.0|\n",
      "|    max|                 Year|             Year|\n",
      "+-------+---------------------+-----------------+\n",
      "\n"
     ]
    }
   ],
   "source": [
    "dfH1B.select([\"WAGE_RATE_OF_PAY_FROM\",\"PREVAILING_WAGE\"]).describe().show()"
   ]
  },
  {
   "cell_type": "markdown",
   "metadata": {},
   "source": [
    "Removing nun-numeric values from both variables, we get the following discriptive statistics."
   ]
  },
  {
   "cell_type": "code",
   "execution_count": 33,
   "metadata": {},
   "outputs": [
    {
     "name": "stdout",
     "output_type": "stream",
     "text": [
      "+-------+---------------------+-----------------+\n",
      "|summary|WAGE_RATE_OF_PAY_FROM|  PREVAILING_WAGE|\n",
      "+-------+---------------------+-----------------+\n",
      "|  count|              2982256|          2982256|\n",
      "|   mean|    91922.22951846999|80853.96511464765|\n",
      "| stddev|    908230.1286119057| 591793.966755297|\n",
      "|    min|                  0.0|              0.0|\n",
      "|    max|             99999.99|          99997.0|\n",
      "+-------+---------------------+-----------------+\n",
      "\n"
     ]
    }
   ],
   "source": [
    "dfH1B.filter(dfH1B.WAGE_RATE_OF_PAY_FROM.rlike('[0-9]') & dfH1B.PREVAILING_WAGE.rlike('[0-9]'))\\\n",
    ".select([\"WAGE_RATE_OF_PAY_FROM\",\"PREVAILING_WAGE\"]).describe().show()"
   ]
  },
  {
   "cell_type": "markdown",
   "metadata": {},
   "source": [
    "## Greencard Application Data Analysis"
   ]
  },
  {
   "cell_type": "code",
   "execution_count": 34,
   "metadata": {},
   "outputs": [],
   "source": [
    "# Read the data\n",
    "dfGC = spark.read.csv(infileGC, inferSchema=True, header = True)"
   ]
  },
  {
   "cell_type": "code",
   "execution_count": 35,
   "metadata": {},
   "outputs": [
    {
     "name": "stdout",
     "output_type": "stream",
     "text": [
      "+-------------+-----------+------------------+-------------+------+--------------------+--------------+-------------+----------------------+---------------------+--------------------+--------------+-------------------+-------------+--------------------+---------------------------+--------------------+------------------+------------------------+--------------------+------------------------------+----------------------+---------------------+------------------+-----------------------------+-----------------------+-------------------------+-----------------+\n",
      "|  CASE_NUMBER|CASE_STATUS|CASE_RECEIVED_DATE|DECISION_DATE|REFILE|       EMPLOYER_NAME|EMPLOYER_STATE|EMPLOYER_CITY|EMPLOYER_NUM_EMPLOYEES|FW_OWNERSHIP_INTEREST|        PW_SOC_TITLE|PW_AMOUNT_9089|PW_UNIT_OF_PAY_9089|PW_LEVEL_9089|WAGE_OFFER_FROM_9089|WAGE_OFFER_UNIT_OF_PAY_9089|  JOB_INFO_JOB_TITLE|JOB_INFO_EDUCATION|JOB_INFO_EDUCATION_OTHER|      JOB_INFO_MAJOR|JOB_INFO_EXPERIENCE_NUM_MONTHS|COUNTRY_OF_CITIZENSHIP|FW_INFO_BIRTH_COUNTRY|CLASS_OF_ADMISSION|FOREIGN_WORKER_INFO_EDUCATION|FW_INFO_EDUCATION_OTHER|FOREIGN_WORKER_INFO_MAJOR|PW_JOB_TITLE_9089|\n",
      "+-------------+-----------+------------------+-------------+------+--------------------+--------------+-------------+----------------------+---------------------+--------------------+--------------+-------------------+-------------+--------------------+---------------------------+--------------------+------------------+------------------------+--------------------+------------------------------+----------------------+---------------------+------------------+-----------------------------+-----------------------+-------------------------+-----------------+\n",
      "|A-15096-64168|  Withdrawn|        2015-05-05|   2015-10-01|     N|Think Primary Car...|            NE|        Omaha|                  54.0|                    N|    Chief Executives|      192317.0|               Year|    Level III|            350000.0|                       Year|Chief Executive O...|          Master's|                    null|Business Administ...|                         120.0|               IRELAND|              IRELAND|               E-2|                     Master's|                   null|         BUSINESS STUDIES|             null|\n",
      "|A-15273-23908|  Withdrawn|        2015-10-01|   2015-10-01|     N|Shopping & Shoppi...|            FL|        Miami|                   5.0|                    N|General and Opera...|      135533.0|               Year|    Level III|            135533.0|                       Year|             Manager|       High School|                    null|                null|                          24.0|                BRAZIL|               BRAZIL|               C-3|                  High School|                   null|                     null|             null|\n",
      "+-------------+-----------+------------------+-------------+------+--------------------+--------------+-------------+----------------------+---------------------+--------------------+--------------+-------------------+-------------+--------------------+---------------------------+--------------------+------------------+------------------------+--------------------+------------------------------+----------------------+---------------------+------------------+-----------------------------+-----------------------+-------------------------+-----------------+\n",
      "only showing top 2 rows\n",
      "\n"
     ]
    }
   ],
   "source": [
    "dfGC.show(2)"
   ]
  },
  {
   "cell_type": "code",
   "execution_count": 36,
   "metadata": {},
   "outputs": [
    {
     "name": "stdout",
     "output_type": "stream",
     "text": [
      "root\n",
      " |-- CASE_NUMBER: string (nullable = true)\n",
      " |-- CASE_STATUS: string (nullable = true)\n",
      " |-- CASE_RECEIVED_DATE: string (nullable = true)\n",
      " |-- DECISION_DATE: string (nullable = true)\n",
      " |-- REFILE: string (nullable = true)\n",
      " |-- EMPLOYER_NAME: string (nullable = true)\n",
      " |-- EMPLOYER_STATE: string (nullable = true)\n",
      " |-- EMPLOYER_CITY: string (nullable = true)\n",
      " |-- EMPLOYER_NUM_EMPLOYEES: string (nullable = true)\n",
      " |-- FW_OWNERSHIP_INTEREST: string (nullable = true)\n",
      " |-- PW_SOC_TITLE: string (nullable = true)\n",
      " |-- PW_AMOUNT_9089: string (nullable = true)\n",
      " |-- PW_UNIT_OF_PAY_9089: string (nullable = true)\n",
      " |-- PW_LEVEL_9089: string (nullable = true)\n",
      " |-- WAGE_OFFER_FROM_9089: string (nullable = true)\n",
      " |-- WAGE_OFFER_UNIT_OF_PAY_9089: string (nullable = true)\n",
      " |-- JOB_INFO_JOB_TITLE: string (nullable = true)\n",
      " |-- JOB_INFO_EDUCATION: string (nullable = true)\n",
      " |-- JOB_INFO_EDUCATION_OTHER: string (nullable = true)\n",
      " |-- JOB_INFO_MAJOR: string (nullable = true)\n",
      " |-- JOB_INFO_EXPERIENCE_NUM_MONTHS: string (nullable = true)\n",
      " |-- COUNTRY_OF_CITIZENSHIP: string (nullable = true)\n",
      " |-- FW_INFO_BIRTH_COUNTRY: string (nullable = true)\n",
      " |-- CLASS_OF_ADMISSION: string (nullable = true)\n",
      " |-- FOREIGN_WORKER_INFO_EDUCATION: string (nullable = true)\n",
      " |-- FW_INFO_EDUCATION_OTHER: string (nullable = true)\n",
      " |-- FOREIGN_WORKER_INFO_MAJOR: string (nullable = true)\n",
      " |-- PW_JOB_TITLE_9089: string (nullable = true)\n",
      "\n"
     ]
    }
   ],
   "source": [
    "dfGC.printSchema()"
   ]
  },
  {
   "cell_type": "code",
   "execution_count": 37,
   "metadata": {},
   "outputs": [
    {
     "data": {
      "text/plain": [
       "650816"
      ]
     },
     "execution_count": 37,
     "metadata": {},
     "output_type": "execute_result"
    }
   ],
   "source": [
    "dfGC.count()"
   ]
  },
  {
   "cell_type": "markdown",
   "metadata": {},
   "source": [
    "Greencard application dataset has 28 columns listed as above. The column 'CASE_NUMBER' is the unique identification number for each greencard application. The dataset has 650,816 number of records. "
   ]
  },
  {
   "cell_type": "code",
   "execution_count": 38,
   "metadata": {},
   "outputs": [
    {
     "name": "stdout",
     "output_type": "stream",
     "text": [
      "+--------------------+-----+\n",
      "|         CASE_STATUS|count|\n",
      "+--------------------+-----+\n",
      "|   FILM & TELEVISION|    1|\n",
      "|TRAINING OR EXPER...|    4|\n",
      "|Food Service Mana...|    1|\n",
      "|Software Develope...|    1|\n",
      "|   or Related Field\"|    1|\n",
      "|orInformation Sys...|    1|\n",
      "|Elctrcl Engg-Tele...|    1|\n",
      "|     ComputerAided)\"|    2|\n",
      "|             Bus.Adm|    1|\n",
      "|      or rltd field\"|    2|\n",
      "|AUTOMOTIVE SERVIC...|    1|\n",
      "|             Telecom|    1|\n",
      "|         Engineering|    2|\n",
      "|                 MIS|    2|\n",
      "|                math|    1|\n",
      "|Electronics& Tele...|    1|\n",
      "|     Squash Coaching|    1|\n",
      "|         Elect.Engg.|    2|\n",
      "|                84.0|    9|\n",
      "| SoftwareEngineering|    2|\n",
      "+--------------------+-----+\n",
      "only showing top 20 rows\n",
      "\n"
     ]
    }
   ],
   "source": [
    "dfGC.groupBy(\"CASE_STATUS\").count().show()"
   ]
  },
  {
   "cell_type": "markdown",
   "metadata": {},
   "source": [
    "The 'CASE_STATUS' indicates the outcome of the greencard application. We will use this variable as the target variable for the logistic and other machine learning models.\n",
    "\n",
    "Following are frequancy tables for each categorical variables in the dataset."
   ]
  },
  {
   "cell_type": "code",
   "execution_count": 39,
   "metadata": {},
   "outputs": [
    {
     "name": "stdout",
     "output_type": "stream",
     "text": [
      "+--------------------+-----+\n",
      "|              REFILE|count|\n",
      "+--------------------+-----+\n",
      "|                 E-2|   10|\n",
      "|        SOUTH AFRICA|    1|\n",
      "|                 re\"|    1|\n",
      "|             Bus.Adm|    1|\n",
      "|             Math or|    1|\n",
      "|         Elect.Engg.|    1|\n",
      "|          orrel fld\"|    2|\n",
      "|Redhat Linux Admi...|    1|\n",
      "|               JAPAN|    4|\n",
      "|          BANGLADESH|    2|\n",
      "|                 E-3|    3|\n",
      "|                 TPS|    2|\n",
      "|    Businessor rel.\"|    1|\n",
      "|            Eng(any)|   97|\n",
      "|             Science|    1|\n",
      "|          Not in USA|   16|\n",
      "|            TANZANIA|    1|\n",
      "|              JORDAN|    2|\n",
      "|      Math or equiv\"|    1|\n",
      "|                  EE|    1|\n",
      "+--------------------+-----+\n",
      "only showing top 20 rows\n",
      "\n"
     ]
    }
   ],
   "source": [
    "dfGC.groupBy(\"REFILE\").count().show()"
   ]
  },
  {
   "cell_type": "code",
   "execution_count": 40,
   "metadata": {},
   "outputs": [
    {
     "name": "stdout",
     "output_type": "stream",
     "text": [
      "+--------------------+-----+\n",
      "|      EMPLOYER_STATE|count|\n",
      "+--------------------+-----+\n",
      "|                 E-2|    1|\n",
      "|        SOUTH AFRICA|    1|\n",
      "|                  AZ| 2671|\n",
      "|                  SC| 2750|\n",
      "|POST GRADUATE DIP...|    1|\n",
      "|          NEW JERSEY| 6729|\n",
      "|          orrel fld\"|   16|\n",
      "|BACHELOR OF COMME...|    1|\n",
      "|          BANGLADESH|    5|\n",
      "|                  LA| 1183|\n",
      "|                  MN| 2958|\n",
      "|NORTHERN MARIANA ...|   85|\n",
      "|           WISCONSIN|  649|\n",
      "|THE BENEFICIARY H...|    1|\n",
      "|        PENNSYLVANIA| 3341|\n",
      "|Mech. Engg.  or r...|    1|\n",
      "|                  NJ|24471|\n",
      "|            ILLINOIS| 4276|\n",
      "|            MARYLAND| 1313|\n",
      "|DISTRICT OF COLUMBIA|  306|\n",
      "+--------------------+-----+\n",
      "only showing top 20 rows\n",
      "\n"
     ]
    }
   ],
   "source": [
    "dfGC.groupBy(\"EMPLOYER_STATE\").count().show()"
   ]
  },
  {
   "cell_type": "code",
   "execution_count": 41,
   "metadata": {},
   "outputs": [
    {
     "name": "stdout",
     "output_type": "stream",
     "text": [
      "+----------------+-----+\n",
      "|   EMPLOYER_CITY|count|\n",
      "+----------------+-----+\n",
      "|       PRINCETON| 2242|\n",
      "|      ABBOTSFORD|  896|\n",
      "|       SOUTHLAKE|  206|\n",
      "|          NOVATO|  100|\n",
      "|       WATERTOWN|  123|\n",
      "|         MARLTON|   16|\n",
      "|      CUMBERLAND|   27|\n",
      "|OAKBROOK TERRACE|   45|\n",
      "|         Hanover|   37|\n",
      "|  northbrunswick|    1|\n",
      "|      CLEAR LAKE|    4|\n",
      "|     SANDS POINT|    3|\n",
      "|            ANNA|    1|\n",
      "|           Tyler|   26|\n",
      "|         RARITAN|   14|\n",
      "|        ST. ROSE|    8|\n",
      "|     BRAITHWAITE|    2|\n",
      "|        Bluffton|   14|\n",
      "|       Fairbanks|    5|\n",
      "| COPPER MOUNTAIN|    7|\n",
      "+----------------+-----+\n",
      "only showing top 20 rows\n",
      "\n"
     ]
    }
   ],
   "source": [
    "dfGC.groupBy(\"EMPLOYER_CITY\").count().show()"
   ]
  },
  {
   "cell_type": "code",
   "execution_count": 42,
   "metadata": {},
   "outputs": [
    {
     "name": "stdout",
     "output_type": "stream",
     "text": [
      "+---------------------+-----+\n",
      "|FW_OWNERSHIP_INTEREST|count|\n",
      "+---------------------+-----+\n",
      "| INDUSTRIAL & SYST...|    1|\n",
      "| EDUCATIONAL MEASU...|    1|\n",
      "| ELECTRONICS & COM...|    3|\n",
      "|    Financial Analyst|    1|\n",
      "|              BIOLOGY|    1|\n",
      "| Information Secur...|    1|\n",
      "|          ENGINEERING|    1|\n",
      "| AUTOMATIZATION AN...|    1|\n",
      "| Interpreters and ...|    1|\n",
      "| Programmer Analys...|    1|\n",
      "| SOFTWARE DEVELOPE...|    1|\n",
      "| PURCHASING AGENTS...|    2|\n",
      "| Compensation and ...|    1|\n",
      "| MECHANICAL ENGINE...|    1|\n",
      "| Software Develope...|    1|\n",
      "| COMMERCE (U.S. EQ...|    1|\n",
      "|     Chief Executives|    1|\n",
      "| COMPUTER APPLICATION|    1|\n",
      "| STRATEGIC INFORMA...|    1|\n",
      "| COMPUTER APPLICAT...|    1|\n",
      "+---------------------+-----+\n",
      "only showing top 20 rows\n",
      "\n"
     ]
    }
   ],
   "source": [
    "dfGC.groupBy(\"FW_OWNERSHIP_INTEREST\").count().show()"
   ]
  },
  {
   "cell_type": "code",
   "execution_count": 43,
   "metadata": {},
   "outputs": [
    {
     "name": "stdout",
     "output_type": "stream",
     "text": [
      "+--------------------+-----+\n",
      "|        PW_SOC_TITLE|count|\n",
      "+--------------------+-----+\n",
      "|Food Service Mana...|  819|\n",
      "| DriverSales Workers|   59|\n",
      "|AFTER HOURS SUPER...|    1|\n",
      "|FOOD SERVICE MANA...|   17|\n",
      "|Biofuels Producti...|    1|\n",
      "|     Roofing Foreman|    2|\n",
      "|     COST ESTIMATORS|   17|\n",
      "|  Metal WelderFitter|    1|\n",
      "|   COOK INDIAN STYLE|    1|\n",
      "|Secondary School ...|    1|\n",
      "|Digital Marketing...|    1|\n",
      "|MUSIC DIRECTORS A...|    1|\n",
      "|      Dermatologists|    2|\n",
      "|Principal Wireles...|    1|\n",
      "|      Content Editor|    1|\n",
      "|INSTRUCTIONAL COO...|    1|\n",
      "|Industrial Organi...|    1|\n",
      "|Food Preparation ...|    2|\n",
      "|Equipment Acquisi...|    2|\n",
      "|Account Services ...|    1|\n",
      "+--------------------+-----+\n",
      "only showing top 20 rows\n",
      "\n"
     ]
    }
   ],
   "source": [
    "dfGC.groupBy(\"PW_SOC_TITLE\").count().show()"
   ]
  },
  {
   "cell_type": "code",
   "execution_count": 45,
   "metadata": {},
   "outputs": [
    {
     "name": "stdout",
     "output_type": "stream",
     "text": [
      "+--------------------+------+\n",
      "| PW_UNIT_OF_PAY_9089| count|\n",
      "+--------------------+------+\n",
      "|ELECTRONICS & COM...|     3|\n",
      "|OPERATIONS RESEAR...|     1|\n",
      "|         ENGINEERING|     1|\n",
      "|                Year|436173|\n",
      "|Industrial Produc...|     1|\n",
      "|           Bi-Weekly|    25|\n",
      "|ENGINEERING/ELECT...|     1|\n",
      "|VERIFICATION ENGI...|     2|\n",
      "|               Month|    78|\n",
      "|                Hour|  8025|\n",
      "|                null|206329|\n",
      "|COMPUTER SCIENCE ...|     1|\n",
      "|                Week|   116|\n",
      "| Internists, General|     1|\n",
      "|COMPUTER ENGINEERING|     3|\n",
      "|  Financial Analysts|     1|\n",
      "|                H-1B|     1|\n",
      "|     Sales Engineers|     1|\n",
      "|SOFTWARE DEVELOPE...|     1|\n",
      "|COMPUTER APPLICAT...|     1|\n",
      "+--------------------+------+\n",
      "only showing top 20 rows\n",
      "\n"
     ]
    }
   ],
   "source": [
    "dfGC.groupBy(\"PW_UNIT_OF_PAY_9089\").count().show()"
   ]
  },
  {
   "cell_type": "code",
   "execution_count": 46,
   "metadata": {},
   "outputs": [
    {
     "name": "stdout",
     "output_type": "stream",
     "text": [
      "+--------------------+------+\n",
      "|       PW_LEVEL_9089| count|\n",
      "+--------------------+------+\n",
      "|         ENGINEERING|    25|\n",
      "|Programmer Analys...|     1|\n",
      "|  TEXTILE TECHNOLOGY|     1|\n",
      "|CHEMICAL ENGINEERING|     2|\n",
      "|VERIFICATION ENGI...|     2|\n",
      "|            Level II|139948|\n",
      "|                null|236149|\n",
      "|COMPUTER SCIENCE ...|     1|\n",
      "|            Level IV|104373|\n",
      "|ELECTRICAL AND EL...|     4|\n",
      "|ENGINEERING TECHN...|     1|\n",
      "|Computer and Info...|     4|\n",
      "|  TELECOMMUNICATIONS|     1|\n",
      "|           Level III| 77333|\n",
      "|COMPUTER ENGINEERING|    17|\n",
      "|  Financial Analysts|     2|\n",
      "|SOFTWARE DEVELOPE...|     1|\n",
      "|Multimedia Artist...|     1|\n",
      "|Computer Systems ...|     1|\n",
      "|APPLIED COMPUTER ...|     5|\n",
      "+--------------------+------+\n",
      "only showing top 20 rows\n",
      "\n"
     ]
    }
   ],
   "source": [
    "dfGC.groupBy(\"PW_LEVEL_9089\").count().show()"
   ]
  },
  {
   "cell_type": "code",
   "execution_count": 48,
   "metadata": {},
   "outputs": [
    {
     "name": "stdout",
     "output_type": "stream",
     "text": [
      "+---------------------------+------+\n",
      "|WAGE_OFFER_UNIT_OF_PAY_9089| count|\n",
      "+---------------------------+------+\n",
      "|                       Year|428094|\n",
      "|                  Bi-Weekly|    47|\n",
      "|                      Month|   170|\n",
      "|                       Hour| 16371|\n",
      "|                       null|205888|\n",
      "|       BUSINESS ADMINIST...|     1|\n",
      "|                       Week|   244|\n",
      "|       BUSINESS ADMINIST...|     1|\n",
      "+---------------------------+------+\n",
      "\n"
     ]
    }
   ],
   "source": [
    "dfGC.groupBy(\"WAGE_OFFER_UNIT_OF_PAY_9089\").count().show()"
   ]
  },
  {
   "cell_type": "code",
   "execution_count": 49,
   "metadata": {},
   "outputs": [
    {
     "name": "stdout",
     "output_type": "stream",
     "text": [
      "+--------------------+-----+\n",
      "|  JOB_INFO_JOB_TITLE|count|\n",
      "+--------------------+-----+\n",
      "|Programmer/Analys...|    3|\n",
      "|SYSTEMS ADMINISTR...|   77|\n",
      "|Associate-Interme...|    1|\n",
      "|Implementation Co...|   26|\n",
      "|Product Specialis...|    1|\n",
      "|          PIZZA COOK|  372|\n",
      "|           Physician|  156|\n",
      "|Oracle Applicatio...|   25|\n",
      "|Software Developm...|  122|\n",
      "|PLM Operations An...|    1|\n",
      "|.Net Software Dev...|    4|\n",
      "|Director of Globa...|    1|\n",
      "|Learning and Deve...|    1|\n",
      "|    TAEKWONDO MASTER|    9|\n",
      "|  Oracle Developer I|    2|\n",
      "|    QA Engineer - II|    2|\n",
      "|Software Quality ...|    4|\n",
      "|Field Service Eng...|    1|\n",
      "|Chef, Japanese Sp...|    9|\n",
      "|Data/Information ...|    1|\n",
      "+--------------------+-----+\n",
      "only showing top 20 rows\n",
      "\n"
     ]
    }
   ],
   "source": [
    "dfGC.groupBy(\"JOB_INFO_JOB_TITLE\").count().show()"
   ]
  },
  {
   "cell_type": "code",
   "execution_count": 50,
   "metadata": {},
   "outputs": [
    {
     "name": "stdout",
     "output_type": "stream",
     "text": [
      "+------------------+------+\n",
      "|JOB_INFO_EDUCATION| count|\n",
      "+------------------+------+\n",
      "|       High School|  9615|\n",
      "|              None| 49607|\n",
      "|              null|205894|\n",
      "|       SOUTH KOREA|     1|\n",
      "|             Other| 13304|\n",
      "|       Associate's|  3355|\n",
      "|         Doctorate| 13687|\n",
      "|        Bachelor's|172540|\n",
      "|         VENEZUELA|     1|\n",
      "|          Master's|182812|\n",
      "+------------------+------+\n",
      "\n"
     ]
    }
   ],
   "source": [
    "dfGC.groupBy(\"JOB_INFO_EDUCATION\").count().show()"
   ]
  },
  {
   "cell_type": "code",
   "execution_count": 51,
   "metadata": {},
   "outputs": [
    {
     "name": "stdout",
     "output_type": "stream",
     "text": [
      "+------------------------+-----+\n",
      "|JOB_INFO_EDUCATION_OTHER|count|\n",
      "+------------------------+-----+\n",
      "|    Bachelor's or equ...|   16|\n",
      "|    Bachelor's equiva...|    1|\n",
      "|    M.D Degree (Docto...|    1|\n",
      "|    Bachelor or Equiv...|    2|\n",
      "|             J.D. degree|    6|\n",
      "|    M.D. or professio...|    3|\n",
      "|    Professional Degr...|    1|\n",
      "|    2 YEARS OF COLLEG...|    1|\n",
      "|    Medical Degree (M...|    1|\n",
      "|    MD or equivalent ...|    1|\n",
      "|    Juris Doctor degr...|    1|\n",
      "|    MD or Foreign Deg...|   14|\n",
      "|    Ph.D. (all but di...|    1|\n",
      "|    CERTIFICATE IN CO...|    1|\n",
      "|    4 years of course...|    1|\n",
      "|    Approved certific...|    2|\n",
      "|    Bachelor's or equ...|    1|\n",
      "|    3 Years universit...|    1|\n",
      "|    PhD or equivalent...|    1|\n",
      "|    Master of Archite...|    2|\n",
      "+------------------------+-----+\n",
      "only showing top 20 rows\n",
      "\n"
     ]
    }
   ],
   "source": [
    "dfGC.groupBy(\"JOB_INFO_EDUCATION_OTHER\").count().show()"
   ]
  },
  {
   "cell_type": "code",
   "execution_count": 52,
   "metadata": {},
   "outputs": [
    {
     "name": "stdout",
     "output_type": "stream",
     "text": [
      "+--------------------+-----+\n",
      "|      JOB_INFO_MAJOR|count|\n",
      "+--------------------+-----+\n",
      "|Business, Econ., ...|    2|\n",
      "|Comp Sci, Comp In...|    1|\n",
      "|Biomed Engg, Chem...|    2|\n",
      "|           any field|  231|\n",
      "|Comp Sci and/or E...|    1|\n",
      "|Computer Science ...|    3|\n",
      "|Computer Science,...|    4|\n",
      "|Computer Science,...|    7|\n",
      "|Business Administ...|   89|\n",
      "|Electronics & Com...|    1|\n",
      "|Computer Info Sys...|    2|\n",
      "|Information Manag...|   46|\n",
      "|Elect./Elec./Comp...|    1|\n",
      "|Mechanical Engine...|    1|\n",
      "|Computer Science,...|    7|\n",
      "|Comp Sci, Comp Ap...|    1|\n",
      "|Photography Graph...|    1|\n",
      "|International Shi...|    1|\n",
      "|Civil Engineering...|    1|\n",
      "|Construction Mana...|    5|\n",
      "+--------------------+-----+\n",
      "only showing top 20 rows\n",
      "\n"
     ]
    }
   ],
   "source": [
    "dfGC.groupBy(\"JOB_INFO_MAJOR\").count().show()"
   ]
  },
  {
   "cell_type": "code",
   "execution_count": 54,
   "metadata": {},
   "outputs": [
    {
     "name": "stdout",
     "output_type": "stream",
     "text": [
      "+----------------------+-----+\n",
      "|COUNTRY_OF_CITIZENSHIP|count|\n",
      "+----------------------+-----+\n",
      "|               ARMENIA|  309|\n",
      "|               BAHAMAS|  189|\n",
      "|          SOUTH AFRICA| 2578|\n",
      "|              CAMBODIA|  280|\n",
      "|                 JAPAN| 3925|\n",
      "|            BANGLADESH| 3508|\n",
      "|                UGANDA|  146|\n",
      "|            CAPE VERDE|   12|\n",
      "|            MAURITANIA|   10|\n",
      "|              TANZANIA|  116|\n",
      "|              MALDIVES|    3|\n",
      "|                JORDAN| 1093|\n",
      "|               LESOTHO|    3|\n",
      "|               ALBANIA|  473|\n",
      "|               BELARUS|  913|\n",
      "|                 MALTA|   14|\n",
      "|   ANTIGUA AND BARBUDA|   20|\n",
      "|             MAURITIUS|   78|\n",
      "|                KUWAIT|   51|\n",
      "|             LITHUANIA|  200|\n",
      "+----------------------+-----+\n",
      "only showing top 20 rows\n",
      "\n"
     ]
    }
   ],
   "source": [
    "dfGC.groupBy(\"COUNTRY_OF_CITIZENSHIP\").count().show()"
   ]
  },
  {
   "cell_type": "code",
   "execution_count": 55,
   "metadata": {},
   "outputs": [
    {
     "name": "stdout",
     "output_type": "stream",
     "text": [
      "+---------------------+-----+\n",
      "|FW_INFO_BIRTH_COUNTRY|count|\n",
      "+---------------------+-----+\n",
      "|         SOUTH AFRICA| 1699|\n",
      "|              ARMENIA|  227|\n",
      "|              BAHAMAS|  141|\n",
      "|             CAMBODIA|  191|\n",
      "|                JAPAN| 2901|\n",
      "|           BANGLADESH| 2147|\n",
      "|               UGANDA|  110|\n",
      "|           CAPE VERDE|    8|\n",
      "|           MAURITANIA|    8|\n",
      "|             TANZANIA|  104|\n",
      "|             MALDIVES|    3|\n",
      "|               JORDAN|  574|\n",
      "|              LESOTHO|    8|\n",
      "|              ALBANIA|  282|\n",
      "|              BELARUS|  693|\n",
      "|                MALTA|   10|\n",
      "|  ANTIGUA AND BARBUDA|   11|\n",
      "|            MAURITIUS|   65|\n",
      "|               KUWAIT|  418|\n",
      "|            LITHUANIA|  132|\n",
      "+---------------------+-----+\n",
      "only showing top 20 rows\n",
      "\n"
     ]
    }
   ],
   "source": [
    "dfGC.groupBy(\"FW_INFO_BIRTH_COUNTRY\").count().show()"
   ]
  },
  {
   "cell_type": "code",
   "execution_count": 56,
   "metadata": {},
   "outputs": [
    {
     "name": "stdout",
     "output_type": "stream",
     "text": [
      "+------------------+-----+\n",
      "|CLASS_OF_ADMISSION|count|\n",
      "+------------------+-----+\n",
      "|               E-2| 8266|\n",
      "|              H-1C|    1|\n",
      "|               E-3| 2284|\n",
      "|               V-2|    6|\n",
      "|               TPS| 2136|\n",
      "|               S-6|    2|\n",
      "|               G-5|   66|\n",
      "|               R-2|   26|\n",
      "|        Not in USA|25862|\n",
      "|             H-1B1|  677|\n",
      "|               D-2|    1|\n",
      "|               H-3|  108|\n",
      "|               EWI| 2111|\n",
      "|                 Q|   10|\n",
      "|               P-1|  410|\n",
      "|              H-1A|   62|\n",
      "|               F-2| 2045|\n",
      "|              null|55107|\n",
      "|               VWT|  104|\n",
      "|               C-1|   47|\n",
      "+------------------+-----+\n",
      "only showing top 20 rows\n",
      "\n"
     ]
    }
   ],
   "source": [
    "dfGC.groupBy(\"CLASS_OF_ADMISSION\").count().show()"
   ]
  },
  {
   "cell_type": "code",
   "execution_count": 57,
   "metadata": {},
   "outputs": [
    {
     "name": "stdout",
     "output_type": "stream",
     "text": [
      "+-----------------------------+------+\n",
      "|FOREIGN_WORKER_INFO_EDUCATION| count|\n",
      "+-----------------------------+------+\n",
      "|                  High School| 10334|\n",
      "|                         None| 44533|\n",
      "|                         null|209225|\n",
      "|                        Other| 17048|\n",
      "|                  Associate's|  3617|\n",
      "|                    Doctorate| 20480|\n",
      "|                   Bachelor's|160305|\n",
      "|                     Master's|185274|\n",
      "+-----------------------------+------+\n",
      "\n"
     ]
    }
   ],
   "source": [
    "dfGC.groupBy(\"FOREIGN_WORKER_INFO_EDUCATION\").count().show()"
   ]
  },
  {
   "cell_type": "code",
   "execution_count": 58,
   "metadata": {},
   "outputs": [
    {
     "name": "stdout",
     "output_type": "stream",
     "text": [
      "+-----------------------+-----+\n",
      "|FW_INFO_EDUCATION_OTHER|count|\n",
      "+-----------------------+-----+\n",
      "|   POST SECONDARY DI...|    3|\n",
      "|   NATIONAL DIPLOMA ...|    1|\n",
      "|   DMD DOCTOR OF DEN...|    5|\n",
      "|   DIPLOMA (EQUIVALE...|    1|\n",
      "|   3 YEAR BACHELORS;...|    1|\n",
      "|   FIRST PROFESSIONA...|    1|\n",
      "|   M.D.  MEDICAL DOCTOR|    1|\n",
      "|   BACH EQUIV BASED ...|    1|\n",
      "|   BACHELOR OF DENTA...|    1|\n",
      "|   DIPLOMA (PLUS EXP...|    1|\n",
      "|   3 YEARS OF STUDY ...|    1|\n",
      "|   4 YEARS OF UNIVER...|    1|\n",
      "|   FOREIGN DEGREE EQ...|   18|\n",
      "|   3 YEARS OF ACADEM...|    1|\n",
      "|   BACHELOR'S EQUIVA...|    1|\n",
      "|   DOCTOR OF VETERIN...|    1|\n",
      "|   BACH. OF MEDICINE...|    1|\n",
      "|   COMPLETED POST-SE...|    1|\n",
      "|   TWO YEARS OF HIGH...|    1|\n",
      "|   BACHELOR DEGREE (...|    1|\n",
      "+-----------------------+-----+\n",
      "only showing top 20 rows\n",
      "\n"
     ]
    }
   ],
   "source": [
    "dfGC.groupBy(\"FW_INFO_EDUCATION_OTHER\").count().show()"
   ]
  },
  {
   "cell_type": "code",
   "execution_count": 59,
   "metadata": {},
   "outputs": [
    {
     "name": "stdout",
     "output_type": "stream",
     "text": [
      "+-------------------------+-----+\n",
      "|FOREIGN_WORKER_INFO_MAJOR|count|\n",
      "+-------------------------+-----+\n",
      "|     INDUSTRIAL & SYST...|  123|\n",
      "|     COMPUTER APPLICAT...|    9|\n",
      "|      CHRISTIAN EDUCATION|   31|\n",
      "|     INTERNATIONAL BUS...|    1|\n",
      "|     MASTER OF FINE AR...|    1|\n",
      "|        PHYSICS EDUCATION|   16|\n",
      "|          SECONDARY LEVEL|    1|\n",
      "|     COMMERCE, ACCOUNT...|    1|\n",
      "|                 ROBOTICS|   93|\n",
      "|     MANAGEMENT WITH S...|    3|\n",
      "|     COMPUTER ENGINEER...|    1|\n",
      "|     ENGINEERING (INST...|   11|\n",
      "|     ENGINEERING - COM...|    1|\n",
      "|     MANAGEMENT INFORM...|    1|\n",
      "|     ELECTICAL ENGINEE...|   11|\n",
      "|     ENGINEERING MANAG...|    8|\n",
      "|     ENGINEERING (MANU...|    6|\n",
      "|     PLASTIC MOLDING P...|    1|\n",
      "|     ELECTROMAGNETIC C...|    1|\n",
      "|     BACHELOR OF ENGIN...|    2|\n",
      "+-------------------------+-----+\n",
      "only showing top 20 rows\n",
      "\n"
     ]
    }
   ],
   "source": [
    "dfGC.groupBy(\"FOREIGN_WORKER_INFO_MAJOR\").count().show()"
   ]
  },
  {
   "cell_type": "code",
   "execution_count": 60,
   "metadata": {},
   "outputs": [
    {
     "name": "stdout",
     "output_type": "stream",
     "text": [
      "+--------------------+-----+\n",
      "|   PW_JOB_TITLE_9089|count|\n",
      "+--------------------+-----+\n",
      "|Software Develope...|   39|\n",
      "|Food Service Mana...|  185|\n",
      "|FOOD SERVICE MANA...|   30|\n",
      "|Textile Pattern D...|    1|\n",
      "|           Physician|   16|\n",
      "|PROGRAMMER ANALYS...|    4|\n",
      "|      Dispatch Clerk|    1|\n",
      "|MUSIC DIRECTORS A...|    2|\n",
      "|   CONCRETE FINISHER|    4|\n",
      "|     COST ESTIMATORS|   24|\n",
      "|Music Director an...|    4|\n",
      "|       Personal Chef|    1|\n",
      "| SENIOR METALLURGIST|    2|\n",
      "|Restaurant Manage...|    1|\n",
      "|PARALEGALS AND LE...|    1|\n",
      "|Information Syste...|    1|\n",
      "|Web UI Designer/D...|    1|\n",
      "|Oracle Applicatio...|    2|\n",
      "|Chef, Japanese Sp...|    2|\n",
      "|INSTRUCTIONAL COO...|    3|\n",
      "+--------------------+-----+\n",
      "only showing top 20 rows\n",
      "\n"
     ]
    }
   ],
   "source": [
    "dfGC.groupBy(\"PW_JOB_TITLE_9089\").count().show()"
   ]
  },
  {
   "cell_type": "markdown",
   "metadata": {},
   "source": [
    "The dataset three two quantitative variables, namely 'PW_AMOUNT_9089', 'WAGE_OFFER_FROM_9089' and 'JOB_INFO_EXPERIENCE_NUM_MONTHS'. Following are discriptive statistics of those variables."
   ]
  },
  {
   "cell_type": "code",
   "execution_count": 61,
   "metadata": {},
   "outputs": [
    {
     "name": "stdout",
     "output_type": "stream",
     "text": [
      "+-------+----------------+--------------------+------------------------------+\n",
      "|summary|  PW_AMOUNT_9089|WAGE_OFFER_FROM_9089|JOB_INFO_EXPERIENCE_NUM_MONTHS|\n",
      "+-------+----------------+--------------------+------------------------------+\n",
      "|  count|          444717|              342960|                        254335|\n",
      "|   mean|82318.6006779178|   88072.46095642494|             32.36903048746923|\n",
      "| stddev|52088.1830374509|   64435.94536638791|            22.482450770115435|\n",
      "|    min|   #############|       #############|                           0.0|\n",
      "|    max|            Year|INFORMATION SYSTE...|                      Master's|\n",
      "+-------+----------------+--------------------+------------------------------+\n",
      "\n"
     ]
    }
   ],
   "source": [
    "dfGC.select([\"PW_AMOUNT_9089\",\"WAGE_OFFER_FROM_9089\",\"JOB_INFO_EXPERIENCE_NUM_MONTHS\"]).describe().show()"
   ]
  },
  {
   "cell_type": "markdown",
   "metadata": {},
   "source": [
    "Removing nun-numeric values from all three variables, we get the following discriptive statistics."
   ]
  },
  {
   "cell_type": "code",
   "execution_count": 63,
   "metadata": {},
   "outputs": [
    {
     "name": "stdout",
     "output_type": "stream",
     "text": [
      "+-------+-----------------+--------------------+------------------------------+\n",
      "|summary|   PW_AMOUNT_9089|WAGE_OFFER_FROM_9089|JOB_INFO_EXPERIENCE_NUM_MONTHS|\n",
      "+-------+-----------------+--------------------+------------------------------+\n",
      "|  count|           194643|              194643|                        194643|\n",
      "|   mean|90065.25384204886|   94824.23267089408|             32.39676227760567|\n",
      "| stddev|52042.14886913379|   65625.78865821898|            22.429905434953344|\n",
      "|    min|         1,000.00|        1,000,000.00|                           0.0|\n",
      "|    max|          99988.0|             99999.9|                          98.0|\n",
      "+-------+-----------------+--------------------+------------------------------+\n",
      "\n"
     ]
    }
   ],
   "source": [
    "dfGC.filter(dfGC.PW_AMOUNT_9089.rlike('[0-9]') & dfGC.WAGE_OFFER_FROM_9089.rlike('[0-9]') & dfGC.JOB_INFO_EXPERIENCE_NUM_MONTHS.rlike('[0-9]'))\\\n",
    ".select([\"PW_AMOUNT_9089\",\"WAGE_OFFER_FROM_9089\",\"JOB_INFO_EXPERIENCE_NUM_MONTHS\"]).describe().show()"
   ]
  },
  {
   "cell_type": "markdown",
   "metadata": {},
   "source": [
    "Need to remove commas in numbers"
   ]
  },
  {
   "cell_type": "code",
   "execution_count": 67,
   "metadata": {},
   "outputs": [
    {
     "name": "stdout",
     "output_type": "stream",
     "text": [
      "+-------+-----------------+--------------------+------------------------------+\n",
      "|summary|   PW_AMOUNT_9089|WAGE_OFFER_FROM_9089|JOB_INFO_EXPERIENCE_NUM_MONTHS|\n",
      "+-------+-----------------+--------------------+------------------------------+\n",
      "|  count|           194643|              194643|                        194643|\n",
      "|   mean|91980.21292222217|   99242.88092584857|             32.39676227760567|\n",
      "| stddev|51142.00776281451|   61108.11882525911|            22.429905434953344|\n",
      "|    min|             10.0|                10.0|                           0.0|\n",
      "|    max|         99992.00|            99999.94|                          98.0|\n",
      "+-------+-----------------+--------------------+------------------------------+\n",
      "\n"
     ]
    }
   ],
   "source": [
    "from pyspark.sql import functions\n",
    "\n",
    "dfGC.filter(dfGC.PW_AMOUNT_9089.rlike('[0-9]') & dfGC.WAGE_OFFER_FROM_9089.rlike('[0-9]') & dfGC.JOB_INFO_EXPERIENCE_NUM_MONTHS.rlike('[0-9]'))\\\n",
    ".withColumn(\"PW_AMOUNT_9089\", functions.regexp_replace('PW_AMOUNT_9089',r'[,]',\"\"))\\\n",
    ".withColumn(\"WAGE_OFFER_FROM_9089\", functions.regexp_replace('WAGE_OFFER_FROM_9089',r'[,]',\"\"))\\\n",
    ".withColumn(\"JOB_INFO_EXPERIENCE_NUM_MONTHS\", functions.regexp_replace('JOB_INFO_EXPERIENCE_NUM_MONTHS',r'[,]',\"\"))\\\n",
    ".select([\"PW_AMOUNT_9089\",\"WAGE_OFFER_FROM_9089\",\"JOB_INFO_EXPERIENCE_NUM_MONTHS\"]).describe().show()"
   ]
  }
 ],
 "metadata": {
  "kernelspec": {
   "display_name": "Python 3 (ipykernel)",
   "language": "python",
   "name": "python3"
  },
  "language_info": {
   "codemirror_mode": {
    "name": "ipython",
    "version": 3
   },
   "file_extension": ".py",
   "mimetype": "text/x-python",
   "name": "python",
   "nbconvert_exporter": "python",
   "pygments_lexer": "ipython3",
   "version": "3.8.3"
  }
 },
 "nbformat": 4,
 "nbformat_minor": 4
}
